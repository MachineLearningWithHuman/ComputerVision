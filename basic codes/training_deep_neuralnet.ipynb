{
  "nbformat": 4,
  "nbformat_minor": 0,
  "metadata": {
    "colab": {
      "name": "training deep neuralnet.ipynb",
      "provenance": []
    },
    "kernelspec": {
      "name": "python3",
      "display_name": "Python 3"
    },
    "accelerator": "GPU"
  },
  "cells": [
    {
      "cell_type": "code",
      "metadata": {
        "colab_type": "code",
        "id": "RXZT2UsyIVe_",
        "colab": {
          "base_uri": "https://localhost:8080/",
          "height": 417
        },
        "outputId": "b8511fd2-dc95-4c55-eb72-78f1f4046bc2"
      },
      "source": [
        "!wget --no-check-certificate \\\n",
        "    https://storage.googleapis.com/laurencemoroney-blog.appspot.com/horse-or-human.zip \\\n",
        "    -O /tmp/horse-or-human.zip\n",
        "\n",
        "!wget --no-check-certificate \\\n",
        "    https://storage.googleapis.com/laurencemoroney-blog.appspot.com/validation-horse-or-human.zip \\\n",
        "    -O /tmp/validation-horse-or-human.zip\n",
        "  \n",
        "import os\n",
        "import zipfile\n",
        "\n",
        "local_zip = '/tmp/horse-or-human.zip'\n",
        "zip_ref = zipfile.ZipFile(local_zip, 'r')\n",
        "zip_ref.extractall('/tmp/horse-or-human')\n",
        "local_zip = '/tmp/validation-horse-or-human.zip'\n",
        "zip_ref = zipfile.ZipFile(local_zip, 'r')\n",
        "zip_ref.extractall('/tmp/validation-horse-or-human')\n",
        "zip_ref.close()\n",
        "# Directory with our training horse pictures\n",
        "train_horse_dir = os.path.join('/tmp/horse-or-human/horses')\n",
        "\n",
        "# Directory with our training human pictures\n",
        "train_human_dir = os.path.join('/tmp/horse-or-human/humans')\n",
        "\n",
        "# Directory with our training horse pictures\n",
        "validation_horse_dir = os.path.join('/tmp/validation-horse-or-human/horses')\n",
        "\n",
        "# Directory with our training human pictures\n",
        "validation_human_dir = os.path.join('/tmp/validation-horse-or-human/humans')"
      ],
      "execution_count": 1,
      "outputs": [
        {
          "output_type": "stream",
          "text": [
            "--2020-06-14 21:48:48--  https://storage.googleapis.com/laurencemoroney-blog.appspot.com/horse-or-human.zip\n",
            "Resolving storage.googleapis.com (storage.googleapis.com)... 74.125.135.128, 2607:f8b0:400e:c01::80\n",
            "Connecting to storage.googleapis.com (storage.googleapis.com)|74.125.135.128|:443... connected.\n",
            "HTTP request sent, awaiting response... 200 OK\n",
            "Length: 149574867 (143M) [application/zip]\n",
            "Saving to: ‘/tmp/horse-or-human.zip’\n",
            "\n",
            "\r/tmp/horse-or-human   0%[                    ]       0  --.-KB/s               \r/tmp/horse-or-human   4%[                    ]   7.04M  35.2MB/s               \r/tmp/horse-or-human  20%[===>                ]  28.70M  71.7MB/s               \r/tmp/horse-or-human  44%[=======>            ]  63.11M   105MB/s               \r/tmp/horse-or-human  50%[=========>          ]  72.01M  81.4MB/s               \r/tmp/horse-or-human  74%[=============>      ] 106.13M  97.9MB/s               \r/tmp/horse-or-human 100%[===================>] 142.65M   112MB/s    in 1.3s    \n",
            "\n",
            "2020-06-14 21:48:49 (112 MB/s) - ‘/tmp/horse-or-human.zip’ saved [149574867/149574867]\n",
            "\n",
            "--2020-06-14 21:48:53--  https://storage.googleapis.com/laurencemoroney-blog.appspot.com/validation-horse-or-human.zip\n",
            "Resolving storage.googleapis.com (storage.googleapis.com)... 74.125.142.128, 2607:f8b0:400e:c07::80\n",
            "Connecting to storage.googleapis.com (storage.googleapis.com)|74.125.142.128|:443... connected.\n",
            "HTTP request sent, awaiting response... 200 OK\n",
            "Length: 11480187 (11M) [application/zip]\n",
            "Saving to: ‘/tmp/validation-horse-or-human.zip’\n",
            "\n",
            "/tmp/validation-hor 100%[===================>]  10.95M  44.6MB/s    in 0.2s    \n",
            "\n",
            "2020-06-14 21:48:54 (44.6 MB/s) - ‘/tmp/validation-horse-or-human.zip’ saved [11480187/11480187]\n",
            "\n"
          ],
          "name": "stdout"
        }
      ]
    },
    {
      "cell_type": "markdown",
      "metadata": {
        "colab_type": "text",
        "id": "5oqBkNBJmtUv"
      },
      "source": [
        "## Building a Small Model from Scratch\n",
        "\n",
        "But before we continue, let's start defining the model:\n",
        "\n",
        "Step 1 will be to import tensorflow."
      ]
    },
    {
      "cell_type": "code",
      "metadata": {
        "colab_type": "code",
        "id": "qvfZg3LQbD-5",
        "colab": {}
      },
      "source": [
        "import tensorflow as tf"
      ],
      "execution_count": 0,
      "outputs": []
    },
    {
      "cell_type": "markdown",
      "metadata": {
        "colab_type": "text",
        "id": "BnhYCP4tdqjC"
      },
      "source": [
        "We then add convolutional layers as in the previous example, and flatten the final result to feed into the densely connected layers."
      ]
    },
    {
      "cell_type": "markdown",
      "metadata": {
        "colab_type": "text",
        "id": "gokG5HKpdtzm"
      },
      "source": [
        "Finally we add the densely connected layers. \n",
        "\n",
        "Note that because we are facing a two-class classification problem, i.e. a *binary classification problem*, we will end our network with a [*sigmoid* activation](https://wikipedia.org/wiki/Sigmoid_function), so that the output of our network will be a single scalar between 0 and 1, encoding the probability that the current image is class 1 (as opposed to class 0)."
      ]
    },
    {
      "cell_type": "code",
      "metadata": {
        "colab_type": "code",
        "id": "PixZ2s5QbYQ3",
        "colab": {}
      },
      "source": [
        "model = tf.keras.models.Sequential([\n",
        "    # Note the input shape is the desired size of the image 300x300 with 3 bytes color\n",
        "    # This is the first convolution\n",
        "    tf.keras.layers.Conv2D(16, (3,3), activation='relu', input_shape=(300, 300, 3)),\n",
        "    tf.keras.layers.MaxPooling2D(2, 2),\n",
        "    # The second convolution\n",
        "    tf.keras.layers.Conv2D(32, (3,3), activation='relu'),\n",
        "    tf.keras.layers.MaxPooling2D(2,2),\n",
        "    # The third convolution\n",
        "    tf.keras.layers.Conv2D(64, (3,3), activation='relu'),\n",
        "    tf.keras.layers.MaxPooling2D(2,2),\n",
        "    # The fourth convolution\n",
        "    tf.keras.layers.Conv2D(64, (3,3), activation='relu'),\n",
        "    tf.keras.layers.MaxPooling2D(2,2),\n",
        "    # The fifth convolution\n",
        "    tf.keras.layers.Conv2D(64, (3,3), activation='relu'),\n",
        "    tf.keras.layers.MaxPooling2D(2,2),\n",
        "    # Flatten the results to feed into a DNN\n",
        "    tf.keras.layers.Flatten(),\n",
        "    # 512 neuron hidden layer\n",
        "    tf.keras.layers.Dense(512, activation='relu'),\n",
        "    # Only 1 output neuron. It will contain a value from 0-1 where 0 for 1 class ('horses') and 1 for the other ('humans')\n",
        "    tf.keras.layers.Dense(1, activation='sigmoid')\n",
        "])"
      ],
      "execution_count": 0,
      "outputs": []
    },
    {
      "cell_type": "code",
      "metadata": {
        "id": "mRMz9zBGy1aU",
        "colab_type": "code",
        "colab": {}
      },
      "source": [
        "from tensorflow.keras.optimizers import RMSprop\n",
        "\n",
        "model.compile(loss='binary_crossentropy',\n",
        "              optimizer=RMSprop(lr=1e-4),\n",
        "              metrics=['accuracy'])"
      ],
      "execution_count": 0,
      "outputs": []
    },
    {
      "cell_type": "code",
      "metadata": {
        "id": "TvtHL3MQz3ov",
        "colab_type": "code",
        "colab": {
          "base_uri": "https://localhost:8080/",
          "height": 635
        },
        "outputId": "5bc51683-5c12-4b75-ed10-4aa21643bfb2"
      },
      "source": [
        "model.summary()"
      ],
      "execution_count": 5,
      "outputs": [
        {
          "output_type": "stream",
          "text": [
            "Model: \"sequential\"\n",
            "_________________________________________________________________\n",
            "Layer (type)                 Output Shape              Param #   \n",
            "=================================================================\n",
            "conv2d (Conv2D)              (None, 298, 298, 16)      448       \n",
            "_________________________________________________________________\n",
            "max_pooling2d (MaxPooling2D) (None, 149, 149, 16)      0         \n",
            "_________________________________________________________________\n",
            "conv2d_1 (Conv2D)            (None, 147, 147, 32)      4640      \n",
            "_________________________________________________________________\n",
            "max_pooling2d_1 (MaxPooling2 (None, 73, 73, 32)        0         \n",
            "_________________________________________________________________\n",
            "conv2d_2 (Conv2D)            (None, 71, 71, 64)        18496     \n",
            "_________________________________________________________________\n",
            "max_pooling2d_2 (MaxPooling2 (None, 35, 35, 64)        0         \n",
            "_________________________________________________________________\n",
            "conv2d_3 (Conv2D)            (None, 33, 33, 64)        36928     \n",
            "_________________________________________________________________\n",
            "max_pooling2d_3 (MaxPooling2 (None, 16, 16, 64)        0         \n",
            "_________________________________________________________________\n",
            "conv2d_4 (Conv2D)            (None, 14, 14, 64)        36928     \n",
            "_________________________________________________________________\n",
            "max_pooling2d_4 (MaxPooling2 (None, 7, 7, 64)          0         \n",
            "_________________________________________________________________\n",
            "flatten (Flatten)            (None, 3136)              0         \n",
            "_________________________________________________________________\n",
            "dense (Dense)                (None, 512)               1606144   \n",
            "_________________________________________________________________\n",
            "dense_1 (Dense)              (None, 1)                 513       \n",
            "=================================================================\n",
            "Total params: 1,704,097\n",
            "Trainable params: 1,704,097\n",
            "Non-trainable params: 0\n",
            "_________________________________________________________________\n"
          ],
          "name": "stdout"
        }
      ]
    },
    {
      "cell_type": "code",
      "metadata": {
        "colab_type": "code",
        "id": "ClebU9NJg99G",
        "colab": {
          "base_uri": "https://localhost:8080/",
          "height": 54
        },
        "outputId": "e99b1e45-11ba-49f4-d34e-32887bd18af8"
      },
      "source": [
        "from tensorflow.keras.preprocessing.image import ImageDataGenerator\n",
        "\n",
        "# All images will be rescaled by 1./255\n",
        "train_datagen = ImageDataGenerator(\n",
        "      rescale=1./255,\n",
        "      rotation_range=40,\n",
        "      width_shift_range=0.2,\n",
        "      height_shift_range=0.2,\n",
        "      shear_range=0.2,\n",
        "      zoom_range=0.2,\n",
        "      horizontal_flip=True,\n",
        "      fill_mode='nearest')\n",
        "\n",
        "validation_datagen = ImageDataGenerator(rescale=1/255)\n",
        "\n",
        "# Flow training images in batches of 128 using train_datagen generator\n",
        "train_generator = train_datagen.flow_from_directory(\n",
        "        '/tmp/horse-or-human/',  # This is the source directory for training images\n",
        "        target_size=(300, 300),  # All images will be resized to 150x150\n",
        "        batch_size=128,\n",
        "        # Since we use binary_crossentropy loss, we need binary labels\n",
        "        class_mode='binary')\n",
        "\n",
        "# Flow training images in batches of 128 using train_datagen generator\n",
        "validation_generator = validation_datagen.flow_from_directory(\n",
        "        '/tmp/validation-horse-or-human/',  # This is the source directory for training images\n",
        "        target_size=(300, 300),  # All images will be resized to 150x150\n",
        "        batch_size=32,\n",
        "        # Since we use binary_crossentropy loss, we need binary labels\n",
        "        class_mode='binary')"
      ],
      "execution_count": 6,
      "outputs": [
        {
          "output_type": "stream",
          "text": [
            "Found 1027 images belonging to 2 classes.\n",
            "Found 256 images belonging to 2 classes.\n"
          ],
          "name": "stdout"
        }
      ]
    },
    {
      "cell_type": "code",
      "metadata": {
        "colab_type": "code",
        "id": "Fb1_lgobv81m",
        "colab": {
          "base_uri": "https://localhost:8080/",
          "height": 1000
        },
        "outputId": "d2378053-959e-4ecf-a15f-5930930b041f"
      },
      "source": [
        "history = model.fit(\n",
        "      train_generator,\n",
        "      steps_per_epoch=8,  \n",
        "      epochs=100,\n",
        "      verbose=1,\n",
        "      validation_data = validation_generator,\n",
        "      validation_steps=8)"
      ],
      "execution_count": 7,
      "outputs": [
        {
          "output_type": "stream",
          "text": [
            "Epoch 1/100\n",
            "8/8 [==============================] - 16s 2s/step - loss: 0.6850 - accuracy: 0.5195 - val_loss: 0.6723 - val_accuracy: 0.5078\n",
            "Epoch 2/100\n",
            "8/8 [==============================] - 18s 2s/step - loss: 0.6714 - accuracy: 0.6107 - val_loss: 0.6565 - val_accuracy: 0.5156\n",
            "Epoch 3/100\n",
            "8/8 [==============================] - 18s 2s/step - loss: 0.6411 - accuracy: 0.6997 - val_loss: 0.5843 - val_accuracy: 0.7500\n",
            "Epoch 4/100\n",
            "8/8 [==============================] - 18s 2s/step - loss: 0.6114 - accuracy: 0.6830 - val_loss: 0.9304 - val_accuracy: 0.5000\n",
            "Epoch 5/100\n",
            "8/8 [==============================] - 18s 2s/step - loss: 0.6033 - accuracy: 0.6763 - val_loss: 0.4969 - val_accuracy: 0.7773\n",
            "Epoch 6/100\n",
            "8/8 [==============================] - 18s 2s/step - loss: 0.5549 - accuracy: 0.7308 - val_loss: 0.6154 - val_accuracy: 0.6797\n",
            "Epoch 7/100\n",
            "8/8 [==============================] - 20s 2s/step - loss: 0.5323 - accuracy: 0.7402 - val_loss: 0.5816 - val_accuracy: 0.7422\n",
            "Epoch 8/100\n",
            "8/8 [==============================] - 18s 2s/step - loss: 0.5727 - accuracy: 0.7419 - val_loss: 0.8476 - val_accuracy: 0.6094\n",
            "Epoch 9/100\n",
            "8/8 [==============================] - 18s 2s/step - loss: 0.4732 - accuracy: 0.7875 - val_loss: 0.8447 - val_accuracy: 0.6758\n",
            "Epoch 10/100\n",
            "8/8 [==============================] - 18s 2s/step - loss: 0.4938 - accuracy: 0.7664 - val_loss: 0.8145 - val_accuracy: 0.7070\n",
            "Epoch 11/100\n",
            "8/8 [==============================] - 18s 2s/step - loss: 0.6010 - accuracy: 0.7475 - val_loss: 0.9323 - val_accuracy: 0.6875\n",
            "Epoch 12/100\n",
            "8/8 [==============================] - 20s 3s/step - loss: 0.4725 - accuracy: 0.7720 - val_loss: 1.0448 - val_accuracy: 0.6602\n",
            "Epoch 13/100\n",
            "8/8 [==============================] - 20s 2s/step - loss: 0.4456 - accuracy: 0.7939 - val_loss: 1.0014 - val_accuracy: 0.6914\n",
            "Epoch 14/100\n",
            "8/8 [==============================] - 18s 2s/step - loss: 0.4696 - accuracy: 0.7675 - val_loss: 0.9309 - val_accuracy: 0.7031\n",
            "Epoch 15/100\n",
            "8/8 [==============================] - 18s 2s/step - loss: 0.4436 - accuracy: 0.7931 - val_loss: 1.3374 - val_accuracy: 0.6016\n",
            "Epoch 16/100\n",
            "8/8 [==============================] - 18s 2s/step - loss: 0.4536 - accuracy: 0.7753 - val_loss: 1.5529 - val_accuracy: 0.5781\n",
            "Epoch 17/100\n",
            "8/8 [==============================] - 18s 2s/step - loss: 0.4360 - accuracy: 0.7909 - val_loss: 0.9800 - val_accuracy: 0.6992\n",
            "Epoch 18/100\n",
            "8/8 [==============================] - 18s 2s/step - loss: 0.4015 - accuracy: 0.8320 - val_loss: 0.9342 - val_accuracy: 0.7109\n",
            "Epoch 19/100\n",
            "8/8 [==============================] - 18s 2s/step - loss: 0.4028 - accuracy: 0.8209 - val_loss: 0.6104 - val_accuracy: 0.8086\n",
            "Epoch 20/100\n",
            "8/8 [==============================] - 18s 2s/step - loss: 0.4738 - accuracy: 0.7820 - val_loss: 1.3574 - val_accuracy: 0.6641\n",
            "Epoch 21/100\n",
            "8/8 [==============================] - 20s 2s/step - loss: 0.3849 - accuracy: 0.8350 - val_loss: 1.0417 - val_accuracy: 0.7109\n",
            "Epoch 22/100\n",
            "8/8 [==============================] - 18s 2s/step - loss: 0.4200 - accuracy: 0.8087 - val_loss: 1.3183 - val_accuracy: 0.6719\n",
            "Epoch 23/100\n",
            "8/8 [==============================] - 18s 2s/step - loss: 0.3451 - accuracy: 0.8576 - val_loss: 0.4415 - val_accuracy: 0.8633\n",
            "Epoch 24/100\n",
            "8/8 [==============================] - 20s 3s/step - loss: 0.3420 - accuracy: 0.8532 - val_loss: 1.3908 - val_accuracy: 0.6875\n",
            "Epoch 25/100\n",
            "8/8 [==============================] - 18s 2s/step - loss: 0.3571 - accuracy: 0.8509 - val_loss: 2.6670 - val_accuracy: 0.5586\n",
            "Epoch 26/100\n",
            "8/8 [==============================] - 18s 2s/step - loss: 0.4049 - accuracy: 0.8131 - val_loss: 1.5005 - val_accuracy: 0.6758\n",
            "Epoch 27/100\n",
            "8/8 [==============================] - 18s 2s/step - loss: 0.3602 - accuracy: 0.8409 - val_loss: 1.8096 - val_accuracy: 0.6445\n",
            "Epoch 28/100\n",
            "8/8 [==============================] - 18s 2s/step - loss: 0.3194 - accuracy: 0.8710 - val_loss: 1.6951 - val_accuracy: 0.6680\n",
            "Epoch 29/100\n",
            "8/8 [==============================] - 21s 3s/step - loss: 0.3483 - accuracy: 0.8509 - val_loss: 1.6056 - val_accuracy: 0.6758\n",
            "Epoch 30/100\n",
            "8/8 [==============================] - 18s 2s/step - loss: 0.2935 - accuracy: 0.8843 - val_loss: 2.3601 - val_accuracy: 0.5859\n",
            "Epoch 31/100\n",
            "8/8 [==============================] - 18s 2s/step - loss: 0.3262 - accuracy: 0.8532 - val_loss: 2.1762 - val_accuracy: 0.6289\n",
            "Epoch 32/100\n",
            "8/8 [==============================] - 20s 3s/step - loss: 0.3651 - accuracy: 0.8365 - val_loss: 2.0033 - val_accuracy: 0.6211\n",
            "Epoch 33/100\n",
            "8/8 [==============================] - 18s 2s/step - loss: 0.3573 - accuracy: 0.8487 - val_loss: 1.8806 - val_accuracy: 0.6406\n",
            "Epoch 34/100\n",
            "8/8 [==============================] - 20s 2s/step - loss: 0.2932 - accuracy: 0.8779 - val_loss: 2.0488 - val_accuracy: 0.6133\n",
            "Epoch 35/100\n",
            "8/8 [==============================] - 18s 2s/step - loss: 0.2915 - accuracy: 0.8810 - val_loss: 1.5599 - val_accuracy: 0.6641\n",
            "Epoch 36/100\n",
            "8/8 [==============================] - 20s 3s/step - loss: 0.2844 - accuracy: 0.8936 - val_loss: 1.6776 - val_accuracy: 0.6875\n",
            "Epoch 37/100\n",
            "8/8 [==============================] - 18s 2s/step - loss: 0.2876 - accuracy: 0.8699 - val_loss: 1.5051 - val_accuracy: 0.6953\n",
            "Epoch 38/100\n",
            "8/8 [==============================] - 18s 2s/step - loss: 0.3352 - accuracy: 0.8699 - val_loss: 1.8497 - val_accuracy: 0.6484\n",
            "Epoch 39/100\n",
            "8/8 [==============================] - 20s 3s/step - loss: 0.2391 - accuracy: 0.9150 - val_loss: 2.2378 - val_accuracy: 0.6289\n",
            "Epoch 40/100\n",
            "8/8 [==============================] - 18s 2s/step - loss: 0.2856 - accuracy: 0.8776 - val_loss: 1.5164 - val_accuracy: 0.6992\n",
            "Epoch 41/100\n",
            "8/8 [==============================] - 18s 2s/step - loss: 0.2760 - accuracy: 0.8799 - val_loss: 2.1761 - val_accuracy: 0.6367\n",
            "Epoch 42/100\n",
            "8/8 [==============================] - 18s 2s/step - loss: 0.2208 - accuracy: 0.9088 - val_loss: 2.6893 - val_accuracy: 0.6055\n",
            "Epoch 43/100\n",
            "8/8 [==============================] - 18s 2s/step - loss: 0.2667 - accuracy: 0.8821 - val_loss: 1.8392 - val_accuracy: 0.6836\n",
            "Epoch 44/100\n",
            "8/8 [==============================] - 18s 2s/step - loss: 0.2285 - accuracy: 0.9143 - val_loss: 1.8571 - val_accuracy: 0.6914\n",
            "Epoch 45/100\n",
            "8/8 [==============================] - 18s 2s/step - loss: 0.3035 - accuracy: 0.8699 - val_loss: 2.4545 - val_accuracy: 0.6172\n",
            "Epoch 46/100\n",
            "8/8 [==============================] - 20s 3s/step - loss: 0.2251 - accuracy: 0.9010 - val_loss: 2.4441 - val_accuracy: 0.6484\n",
            "Epoch 47/100\n",
            "8/8 [==============================] - 18s 2s/step - loss: 0.3360 - accuracy: 0.8598 - val_loss: 2.7625 - val_accuracy: 0.6328\n",
            "Epoch 48/100\n",
            "8/8 [==============================] - 18s 2s/step - loss: 0.2022 - accuracy: 0.9199 - val_loss: 2.4598 - val_accuracy: 0.6484\n",
            "Epoch 49/100\n",
            "8/8 [==============================] - 20s 2s/step - loss: 0.1929 - accuracy: 0.9131 - val_loss: 2.2525 - val_accuracy: 0.6562\n",
            "Epoch 50/100\n",
            "8/8 [==============================] - 18s 2s/step - loss: 0.2752 - accuracy: 0.8821 - val_loss: 2.1146 - val_accuracy: 0.6680\n",
            "Epoch 51/100\n",
            "8/8 [==============================] - 18s 2s/step - loss: 0.2255 - accuracy: 0.8988 - val_loss: 1.9542 - val_accuracy: 0.6953\n",
            "Epoch 52/100\n",
            "8/8 [==============================] - 18s 2s/step - loss: 0.2108 - accuracy: 0.9210 - val_loss: 3.4228 - val_accuracy: 0.5781\n",
            "Epoch 53/100\n",
            "8/8 [==============================] - 18s 2s/step - loss: 0.1980 - accuracy: 0.9210 - val_loss: 2.4943 - val_accuracy: 0.6562\n",
            "Epoch 54/100\n",
            "8/8 [==============================] - 18s 2s/step - loss: 0.2021 - accuracy: 0.9199 - val_loss: 1.7572 - val_accuracy: 0.7109\n",
            "Epoch 55/100\n",
            "8/8 [==============================] - 20s 3s/step - loss: 0.2130 - accuracy: 0.9155 - val_loss: 2.5870 - val_accuracy: 0.6484\n",
            "Epoch 56/100\n",
            "8/8 [==============================] - 18s 2s/step - loss: 0.1931 - accuracy: 0.9188 - val_loss: 3.2605 - val_accuracy: 0.6172\n",
            "Epoch 57/100\n",
            "8/8 [==============================] - 20s 2s/step - loss: 0.1945 - accuracy: 0.9131 - val_loss: 2.2119 - val_accuracy: 0.6914\n",
            "Epoch 58/100\n",
            "8/8 [==============================] - 21s 3s/step - loss: 0.1416 - accuracy: 0.9511 - val_loss: 2.6175 - val_accuracy: 0.6680\n",
            "Epoch 59/100\n",
            "8/8 [==============================] - 18s 2s/step - loss: 0.2204 - accuracy: 0.9188 - val_loss: 2.4795 - val_accuracy: 0.6680\n",
            "Epoch 60/100\n",
            "8/8 [==============================] - 18s 2s/step - loss: 0.2644 - accuracy: 0.8966 - val_loss: 3.0486 - val_accuracy: 0.6445\n",
            "Epoch 61/100\n",
            "8/8 [==============================] - 18s 2s/step - loss: 0.1537 - accuracy: 0.9388 - val_loss: 2.9839 - val_accuracy: 0.6562\n",
            "Epoch 62/100\n",
            "8/8 [==============================] - 20s 2s/step - loss: 0.1723 - accuracy: 0.9307 - val_loss: 1.5448 - val_accuracy: 0.7383\n",
            "Epoch 63/100\n",
            "8/8 [==============================] - 18s 2s/step - loss: 0.2173 - accuracy: 0.9132 - val_loss: 2.5974 - val_accuracy: 0.6641\n",
            "Epoch 64/100\n",
            "8/8 [==============================] - 18s 2s/step - loss: 0.1546 - accuracy: 0.9455 - val_loss: 2.8638 - val_accuracy: 0.6562\n",
            "Epoch 65/100\n",
            "8/8 [==============================] - 18s 2s/step - loss: 0.1736 - accuracy: 0.9232 - val_loss: 4.7983 - val_accuracy: 0.5547\n",
            "Epoch 66/100\n",
            "8/8 [==============================] - 18s 2s/step - loss: 0.2429 - accuracy: 0.9066 - val_loss: 2.5306 - val_accuracy: 0.6641\n",
            "Epoch 67/100\n",
            "8/8 [==============================] - 20s 2s/step - loss: 0.1566 - accuracy: 0.9453 - val_loss: 2.4748 - val_accuracy: 0.6875\n",
            "Epoch 68/100\n",
            "8/8 [==============================] - 18s 2s/step - loss: 0.1462 - accuracy: 0.9444 - val_loss: 3.0807 - val_accuracy: 0.6562\n",
            "Epoch 69/100\n",
            "8/8 [==============================] - 20s 2s/step - loss: 0.1743 - accuracy: 0.9326 - val_loss: 1.6064 - val_accuracy: 0.7422\n",
            "Epoch 70/100\n",
            "8/8 [==============================] - 18s 2s/step - loss: 0.1594 - accuracy: 0.9399 - val_loss: 1.6763 - val_accuracy: 0.7422\n",
            "Epoch 71/100\n",
            "8/8 [==============================] - 18s 2s/step - loss: 0.3120 - accuracy: 0.8843 - val_loss: 2.3008 - val_accuracy: 0.6797\n",
            "Epoch 72/100\n",
            "8/8 [==============================] - 18s 2s/step - loss: 0.1494 - accuracy: 0.9477 - val_loss: 2.8251 - val_accuracy: 0.6562\n",
            "Epoch 73/100\n",
            "8/8 [==============================] - 18s 2s/step - loss: 0.1376 - accuracy: 0.9433 - val_loss: 3.7275 - val_accuracy: 0.6289\n",
            "Epoch 74/100\n",
            "8/8 [==============================] - 18s 2s/step - loss: 0.1485 - accuracy: 0.9377 - val_loss: 4.3073 - val_accuracy: 0.6016\n",
            "Epoch 75/100\n",
            "8/8 [==============================] - 18s 2s/step - loss: 0.2358 - accuracy: 0.8921 - val_loss: 3.1323 - val_accuracy: 0.6484\n",
            "Epoch 76/100\n",
            "8/8 [==============================] - 20s 3s/step - loss: 0.1771 - accuracy: 0.9266 - val_loss: 3.6355 - val_accuracy: 0.6484\n",
            "Epoch 77/100\n",
            "8/8 [==============================] - 18s 2s/step - loss: 0.1238 - accuracy: 0.9533 - val_loss: 3.6633 - val_accuracy: 0.6562\n",
            "Epoch 78/100\n",
            "8/8 [==============================] - 18s 2s/step - loss: 0.1981 - accuracy: 0.9155 - val_loss: 1.3377 - val_accuracy: 0.7500\n",
            "Epoch 79/100\n",
            "8/8 [==============================] - 18s 2s/step - loss: 0.1512 - accuracy: 0.9466 - val_loss: 2.6734 - val_accuracy: 0.6758\n",
            "Epoch 80/100\n",
            "8/8 [==============================] - 18s 2s/step - loss: 0.1289 - accuracy: 0.9511 - val_loss: 2.5404 - val_accuracy: 0.6914\n",
            "Epoch 81/100\n",
            "8/8 [==============================] - 18s 2s/step - loss: 0.1487 - accuracy: 0.9444 - val_loss: 2.4587 - val_accuracy: 0.6875\n",
            "Epoch 82/100\n",
            "8/8 [==============================] - 18s 2s/step - loss: 0.1104 - accuracy: 0.9588 - val_loss: 2.2757 - val_accuracy: 0.7266\n",
            "Epoch 83/100\n",
            "8/8 [==============================] - 18s 2s/step - loss: 0.2143 - accuracy: 0.9166 - val_loss: 2.7385 - val_accuracy: 0.6797\n",
            "Epoch 84/100\n",
            "8/8 [==============================] - 18s 2s/step - loss: 0.1224 - accuracy: 0.9511 - val_loss: 2.8706 - val_accuracy: 0.6836\n",
            "Epoch 85/100\n",
            "8/8 [==============================] - 18s 2s/step - loss: 0.1633 - accuracy: 0.9366 - val_loss: 3.9889 - val_accuracy: 0.6328\n",
            "Epoch 86/100\n",
            "8/8 [==============================] - 18s 2s/step - loss: 0.1328 - accuracy: 0.9511 - val_loss: 3.1196 - val_accuracy: 0.6719\n",
            "Epoch 87/100\n",
            "8/8 [==============================] - 18s 2s/step - loss: 0.1318 - accuracy: 0.9477 - val_loss: 2.7268 - val_accuracy: 0.7070\n",
            "Epoch 88/100\n",
            "8/8 [==============================] - 18s 2s/step - loss: 0.1296 - accuracy: 0.9488 - val_loss: 4.3136 - val_accuracy: 0.6445\n",
            "Epoch 89/100\n",
            "8/8 [==============================] - 18s 2s/step - loss: 0.1905 - accuracy: 0.9188 - val_loss: 2.7030 - val_accuracy: 0.6836\n",
            "Epoch 90/100\n",
            "8/8 [==============================] - 18s 2s/step - loss: 0.1243 - accuracy: 0.9533 - val_loss: 2.3421 - val_accuracy: 0.7344\n",
            "Epoch 91/100\n",
            "8/8 [==============================] - 18s 2s/step - loss: 0.1282 - accuracy: 0.9433 - val_loss: 4.2297 - val_accuracy: 0.6445\n",
            "Epoch 92/100\n",
            "8/8 [==============================] - 18s 2s/step - loss: 0.1192 - accuracy: 0.9511 - val_loss: 2.0731 - val_accuracy: 0.7422\n",
            "Epoch 93/100\n",
            "8/8 [==============================] - 18s 2s/step - loss: 0.3976 - accuracy: 0.8932 - val_loss: 4.0525 - val_accuracy: 0.6367\n",
            "Epoch 94/100\n",
            "8/8 [==============================] - 18s 2s/step - loss: 0.1021 - accuracy: 0.9577 - val_loss: 3.3658 - val_accuracy: 0.6602\n",
            "Epoch 95/100\n",
            "8/8 [==============================] - 18s 2s/step - loss: 0.1499 - accuracy: 0.9366 - val_loss: 2.2549 - val_accuracy: 0.7148\n",
            "Epoch 96/100\n",
            "8/8 [==============================] - 18s 2s/step - loss: 0.1106 - accuracy: 0.9644 - val_loss: 2.9970 - val_accuracy: 0.6758\n",
            "Epoch 97/100\n",
            "8/8 [==============================] - 18s 2s/step - loss: 0.1820 - accuracy: 0.9388 - val_loss: 4.2064 - val_accuracy: 0.6406\n",
            "Epoch 98/100\n",
            "8/8 [==============================] - 18s 2s/step - loss: 0.1164 - accuracy: 0.9499 - val_loss: 2.8604 - val_accuracy: 0.6992\n",
            "Epoch 99/100\n",
            "8/8 [==============================] - 20s 3s/step - loss: 0.1121 - accuracy: 0.9522 - val_loss: 3.4937 - val_accuracy: 0.6602\n",
            "Epoch 100/100\n",
            "8/8 [==============================] - 18s 2s/step - loss: 0.1067 - accuracy: 0.9566 - val_loss: 3.2441 - val_accuracy: 0.6758\n"
          ],
          "name": "stdout"
        }
      ]
    },
    {
      "cell_type": "code",
      "metadata": {
        "colab_type": "code",
        "id": "7zNPRWOVJdOH",
        "colab": {
          "base_uri": "https://localhost:8080/",
          "height": 545
        },
        "outputId": "2e2302cf-a499-410f-a266-e2061b5ac4a0"
      },
      "source": [
        "import matplotlib.pyplot as plt\n",
        "acc = history.history['accuracy']\n",
        "val_acc = history.history['val_accuracy']\n",
        "loss = history.history['loss']\n",
        "val_loss = history.history['val_loss']\n",
        "\n",
        "epochs = range(len(acc))\n",
        "\n",
        "plt.plot(epochs, acc, 'r', label='Training accuracy')\n",
        "plt.plot(epochs, val_acc, 'b', label='Validation accuracy')\n",
        "plt.title('Training and validation accuracy')\n",
        "\n",
        "plt.figure()\n",
        "\n",
        "plt.plot(epochs, loss, 'r', label='Training Loss')\n",
        "plt.plot(epochs, val_loss, 'b', label='Validation Loss')\n",
        "plt.title('Training and validation loss')\n",
        "plt.legend()\n",
        "\n",
        "plt.show()"
      ],
      "execution_count": 8,
      "outputs": [
        {
          "output_type": "display_data",
          "data": {
            "image/png": "[encoded data removed]",
            "text/plain": [
              "<Figure size 432x288 with 1 Axes>"
            ]
          },
          "metadata": {
            "tags": [],
            "needs_background": "light"
          }
        },
        {
          "output_type": "display_data",
          "data": {
            "image/png": "[encoded data removed]",
            "text/plain": [
              "<Figure size 432x288 with 1 Axes>"
            ]
          },
          "metadata": {
            "tags": [],
            "needs_background": "light"
          }
        }
      ]
    },
    {
      "cell_type": "markdown",
      "metadata": {
        "id": "3SnXxiiu7j5I",
        "colab_type": "text"
      },
      "source": [
        "around 40+ min "
      ]
    },
    {
      "cell_type": "code",
      "metadata": {
        "id": "dZp1Bud8z6Ic",
        "colab_type": "code",
        "colab": {}
      },
      "source": [
        ""
      ],
      "execution_count": 0,
      "outputs": []
    }
  ]
}