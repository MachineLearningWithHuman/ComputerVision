{
 "cells": [
  {
   "cell_type": "markdown",
   "metadata": {},
   "source": [
    "# Implementation of a Deep Residual Neural Network\n",
    "*by Marvin Bertin*\n",
    "<img src=\"../../images/keras-tensorflow-logo.jpg\" width=\"400\">"
   ]
  },
  {
   "cell_type": "markdown",
   "metadata": {},
   "source": [
    "# Imports"
   ]
  },
  {
   "cell_type": "code",
   "execution_count": 6,
   "metadata": {
    "collapsed": true
   },
   "outputs": [],
   "source": [
    "from __future__ import absolute_import\n",
    "from __future__ import division\n",
    "from __future__ import print_function\n",
    "\n",
    "import tensorflow as tf\n",
    "import numpy as np"
   ]
  },
  {
   "cell_type": "code",
   "execution_count": 7,
   "metadata": {
    "collapsed": true
   },
   "outputs": [],
   "source": [
    "models = tf.contrib.keras.models\n",
    "layers = tf.contrib.keras.layers\n",
    "initializers = tf.contrib.keras.initializers\n",
    "regularizers = tf.contrib.keras.regularizers"
   ]
  },
  {
   "cell_type": "markdown",
   "metadata": {},
   "source": [
    "# Pre-activation Bottleneck Residual Block \n",
    "<img src=\"../../images/pre-activation.png\" width=\"400\">\n",
    "\n",
    "<img src=\"../../images/bottleneck.png\" width=\"600\">"
   ]
  },
  {
   "cell_type": "code",
   "execution_count": 3,
   "metadata": {
    "collapsed": true
   },
   "outputs": [],
   "source": [
    "def residual_block(input_tensor, filters, stage, reg=0.0, use_shortcuts=True):\n",
    "\n",
    "    bn_name = 'bn' + str(stage)\n",
    "    conv_name = 'conv' + str(stage)\n",
    "    relu_name = 'relu' + str(stage)\n",
    "    merge_name = 'merge' + str(stage)\n",
    "\n",
    "    # 1x1 conv\n",
    "    # batchnorm-relu-conv\n",
    "    # from input_filters to bottleneck_filters\n",
    "    if stage>1: # first activation is just after conv1\n",
    "        x = layers.BatchNormalization(name=bn_name+'a')(input_tensor)\n",
    "        x = layers.Activation('relu', name=relu_name+'a')(x)\n",
    "    else:\n",
    "        x = input_tensor\n",
    "\n",
    "    x = layers.Convolution2D(\n",
    "            filters[0], (1,1),\n",
    "            kernel_regularizer=regularizers.l2(reg),\n",
    "            use_bias=False,\n",
    "            name=conv_name+'a'\n",
    "        )(x)\n",
    "\n",
    "    # 3x3 conv\n",
    "    # batchnorm-relu-conv\n",
    "    # from bottleneck_filters to bottleneck_filters\n",
    "    x = layers.BatchNormalization(name=bn_name+'b')(x)\n",
    "    x = layers.Activation('relu', name=relu_name+'b')(x)\n",
    "    x = layers.Convolution2D(\n",
    "            filters[1], (3,3),\n",
    "            padding='same',\n",
    "            kernel_regularizer=regularizers.l2(reg),\n",
    "            use_bias = False,\n",
    "            name=conv_name+'b'\n",
    "        )(x)\n",
    "\n",
    "    # 1x1 conv\n",
    "    # batchnorm-relu-conv\n",
    "    # from bottleneck_filters  to input_filters\n",
    "    x = layers.BatchNormalization(name=bn_name+'c')(x)\n",
    "    x = layers.Activation('relu', name=relu_name+'c')(x)\n",
    "    x = layers.Convolution2D(\n",
    "            filters[2], (1,1),\n",
    "            kernel_regularizer=regularizers.l2(reg),\n",
    "            name=conv_name+'c'\n",
    "        )(x)\n",
    "\n",
    "    # merge output with input layer (residual connection)\n",
    "    if use_shortcuts:\n",
    "        x = layers.add([x, input_tensor], name=merge_name)\n",
    "\n",
    "    return x"
   ]
  },
  {
   "cell_type": "markdown",
   "metadata": {},
   "source": [
    "# Full Residual Network"
   ]
  },
  {
   "cell_type": "code",
   "execution_count": 4,
   "metadata": {
    "collapsed": true
   },
   "outputs": [],
   "source": [
    "def ResNetPreAct(input_shape=(32,32,3), nb_classes=5, num_stages=5,\n",
    "                 use_final_conv=False, reg=0.0):\n",
    "\n",
    "\n",
    "    # Input\n",
    "    img_input = layers.Input(shape=input_shape)\n",
    "\n",
    "    #### Input stream ####\n",
    "    # conv-BN-relu-(pool)\n",
    "    x = layers.Convolution2D(\n",
    "            128, (3,3), strides=(2, 2),\n",
    "            padding='same',\n",
    "            kernel_regularizer=regularizers.l2(reg),\n",
    "            use_bias=False,\n",
    "            name='conv0'\n",
    "        )(img_input)\n",
    "    x = layers.BatchNormalization(name='bn0')(x)\n",
    "    x = layers.Activation('relu', name='relu0')(x)\n",
    "#     x = layers.MaxPooling2D((3, 3), strides=(2, 2), padding='same', name='pool0')(x)\n",
    "\n",
    "    #### Residual Blocks ####\n",
    "    # 1x1 conv: batchnorm-relu-conv\n",
    "    # 3x3 conv: batchnorm-relu-conv\n",
    "    # 1x1 conv: batchnorm-relu-conv\n",
    "    for stage in range(1,num_stages+1):\n",
    "        x = residual_block(x, [32,32,128], stage=stage, reg=reg)\n",
    "\n",
    "\n",
    "    #### Output stream ####\n",
    "    # BN-relu-(conv)-avgPool-softmax\n",
    "    x = layers.BatchNormalization(name='bnF')(x)\n",
    "    x = layers.Activation('relu', name='reluF')(x)\n",
    "\n",
    "    # Optional final conv layer\n",
    "    if use_final_conv:\n",
    "        x = layers.Convolution2D(\n",
    "                64, (3,3),\n",
    "                padding='same',\n",
    "                kernel_regularizer=regularizers.l2(reg),\n",
    "                name='convF'\n",
    "            )(x)\n",
    "    \n",
    "    pool_size = input_shape[0] / 2\n",
    "    x = layers.AveragePooling2D((pool_size,pool_size),name='avg_pool')(x)\n",
    "\n",
    "    x = layers.Flatten(name='flat')(x)\n",
    "    x = layers.Dense(nb_classes, activation='softmax', name='fc10')(x)\n",
    "\n",
    "    return models.Model(img_input, x, name='rnpa')"
   ]
  },
  {
   "cell_type": "markdown",
   "metadata": {},
   "source": [
    "# Inspect Model Architecture"
   ]
  },
  {
   "cell_type": "code",
   "execution_count": 9,
   "metadata": {
    "collapsed": false,
    "scrolled": false
   },
   "outputs": [
    {
     "name": "stdout",
     "output_type": "stream",
     "text": [
      "____________________________________________________________________________________________________\n",
      "Layer (type)                     Output Shape          Param #     Connected to                     \n",
      "====================================================================================================\n",
      "input_3 (InputLayer)             (None, 32, 32, 3)     0                                            \n",
      "____________________________________________________________________________________________________\n",
      "conv0 (Conv2D)                   (None, 16, 16, 128)   3456        input_3[0][0]                    \n",
      "____________________________________________________________________________________________________\n",
      "bn0 (BatchNormalization)         (None, 16, 16, 128)   512         conv0[0][0]                      \n",
      "____________________________________________________________________________________________________\n",
      "relu0 (Activation)               (None, 16, 16, 128)   0           bn0[0][0]                        \n",
      "____________________________________________________________________________________________________\n",
      "conv1a (Conv2D)                  (None, 16, 16, 32)    4096        relu0[0][0]                      \n",
      "____________________________________________________________________________________________________\n",
      "bn1b (BatchNormalization)        (None, 16, 16, 32)    128         conv1a[0][0]                     \n",
      "____________________________________________________________________________________________________\n",
      "relu1b (Activation)              (None, 16, 16, 32)    0           bn1b[0][0]                       \n",
      "____________________________________________________________________________________________________\n",
      "conv1b (Conv2D)                  (None, 16, 16, 32)    9216        relu1b[0][0]                     \n",
      "____________________________________________________________________________________________________\n",
      "bn1c (BatchNormalization)        (None, 16, 16, 32)    128         conv1b[0][0]                     \n",
      "____________________________________________________________________________________________________\n",
      "relu1c (Activation)              (None, 16, 16, 32)    0           bn1c[0][0]                       \n",
      "____________________________________________________________________________________________________\n",
      "conv1c (Conv2D)                  (None, 16, 16, 128)   4224        relu1c[0][0]                     \n",
      "____________________________________________________________________________________________________\n",
      "merge1 (Add)                     (None, 16, 16, 128)   0           conv1c[0][0]                     \n",
      "                                                                   relu0[0][0]                      \n",
      "____________________________________________________________________________________________________\n",
      "bn2a (BatchNormalization)        (None, 16, 16, 128)   512         merge1[0][0]                     \n",
      "____________________________________________________________________________________________________\n",
      "relu2a (Activation)              (None, 16, 16, 128)   0           bn2a[0][0]                       \n",
      "____________________________________________________________________________________________________\n",
      "conv2a (Conv2D)                  (None, 16, 16, 32)    4096        relu2a[0][0]                     \n",
      "____________________________________________________________________________________________________\n",
      "bn2b (BatchNormalization)        (None, 16, 16, 32)    128         conv2a[0][0]                     \n",
      "____________________________________________________________________________________________________\n",
      "relu2b (Activation)              (None, 16, 16, 32)    0           bn2b[0][0]                       \n",
      "____________________________________________________________________________________________________\n",
      "conv2b (Conv2D)                  (None, 16, 16, 32)    9216        relu2b[0][0]                     \n",
      "____________________________________________________________________________________________________\n",
      "bn2c (BatchNormalization)        (None, 16, 16, 32)    128         conv2b[0][0]                     \n",
      "____________________________________________________________________________________________________\n",
      "relu2c (Activation)              (None, 16, 16, 32)    0           bn2c[0][0]                       \n",
      "____________________________________________________________________________________________________\n",
      "conv2c (Conv2D)                  (None, 16, 16, 128)   4224        relu2c[0][0]                     \n",
      "____________________________________________________________________________________________________\n",
      "merge2 (Add)                     (None, 16, 16, 128)   0           conv2c[0][0]                     \n",
      "                                                                   merge1[0][0]                     \n",
      "____________________________________________________________________________________________________\n",
      "bn3a (BatchNormalization)        (None, 16, 16, 128)   512         merge2[0][0]                     \n",
      "____________________________________________________________________________________________________\n",
      "relu3a (Activation)              (None, 16, 16, 128)   0           bn3a[0][0]                       \n",
      "____________________________________________________________________________________________________\n",
      "conv3a (Conv2D)                  (None, 16, 16, 32)    4096        relu3a[0][0]                     \n",
      "____________________________________________________________________________________________________\n",
      "bn3b (BatchNormalization)        (None, 16, 16, 32)    128         conv3a[0][0]                     \n",
      "____________________________________________________________________________________________________\n",
      "relu3b (Activation)              (None, 16, 16, 32)    0           bn3b[0][0]                       \n",
      "____________________________________________________________________________________________________\n",
      "conv3b (Conv2D)                  (None, 16, 16, 32)    9216        relu3b[0][0]                     \n",
      "____________________________________________________________________________________________________\n",
      "bn3c (BatchNormalization)        (None, 16, 16, 32)    128         conv3b[0][0]                     \n",
      "____________________________________________________________________________________________________\n",
      "relu3c (Activation)              (None, 16, 16, 32)    0           bn3c[0][0]                       \n",
      "____________________________________________________________________________________________________\n",
      "conv3c (Conv2D)                  (None, 16, 16, 128)   4224        relu3c[0][0]                     \n",
      "____________________________________________________________________________________________________\n",
      "merge3 (Add)                     (None, 16, 16, 128)   0           conv3c[0][0]                     \n",
      "                                                                   merge2[0][0]                     \n",
      "____________________________________________________________________________________________________\n",
      "bn4a (BatchNormalization)        (None, 16, 16, 128)   512         merge3[0][0]                     \n",
      "____________________________________________________________________________________________________\n",
      "relu4a (Activation)              (None, 16, 16, 128)   0           bn4a[0][0]                       \n",
      "____________________________________________________________________________________________________\n",
      "conv4a (Conv2D)                  (None, 16, 16, 32)    4096        relu4a[0][0]                     \n",
      "____________________________________________________________________________________________________\n",
      "bn4b (BatchNormalization)        (None, 16, 16, 32)    128         conv4a[0][0]                     \n",
      "____________________________________________________________________________________________________\n",
      "relu4b (Activation)              (None, 16, 16, 32)    0           bn4b[0][0]                       \n",
      "____________________________________________________________________________________________________\n",
      "conv4b (Conv2D)                  (None, 16, 16, 32)    9216        relu4b[0][0]                     \n",
      "____________________________________________________________________________________________________\n",
      "bn4c (BatchNormalization)        (None, 16, 16, 32)    128         conv4b[0][0]                     \n",
      "____________________________________________________________________________________________________\n",
      "relu4c (Activation)              (None, 16, 16, 32)    0           bn4c[0][0]                       \n",
      "____________________________________________________________________________________________________\n",
      "conv4c (Conv2D)                  (None, 16, 16, 128)   4224        relu4c[0][0]                     \n",
      "____________________________________________________________________________________________________\n",
      "merge4 (Add)                     (None, 16, 16, 128)   0           conv4c[0][0]                     \n",
      "                                                                   merge3[0][0]                     \n",
      "____________________________________________________________________________________________________\n",
      "bn5a (BatchNormalization)        (None, 16, 16, 128)   512         merge4[0][0]                     \n",
      "____________________________________________________________________________________________________\n",
      "relu5a (Activation)              (None, 16, 16, 128)   0           bn5a[0][0]                       \n",
      "____________________________________________________________________________________________________\n",
      "conv5a (Conv2D)                  (None, 16, 16, 32)    4096        relu5a[0][0]                     \n",
      "____________________________________________________________________________________________________\n",
      "bn5b (BatchNormalization)        (None, 16, 16, 32)    128         conv5a[0][0]                     \n",
      "____________________________________________________________________________________________________\n",
      "relu5b (Activation)              (None, 16, 16, 32)    0           bn5b[0][0]                       \n",
      "____________________________________________________________________________________________________\n",
      "conv5b (Conv2D)                  (None, 16, 16, 32)    9216        relu5b[0][0]                     \n",
      "____________________________________________________________________________________________________\n",
      "bn5c (BatchNormalization)        (None, 16, 16, 32)    128         conv5b[0][0]                     \n",
      "____________________________________________________________________________________________________\n",
      "relu5c (Activation)              (None, 16, 16, 32)    0           bn5c[0][0]                       \n",
      "____________________________________________________________________________________________________\n",
      "conv5c (Conv2D)                  (None, 16, 16, 128)   4224        relu5c[0][0]                     \n",
      "____________________________________________________________________________________________________\n",
      "merge5 (Add)                     (None, 16, 16, 128)   0           conv5c[0][0]                     \n",
      "                                                                   merge4[0][0]                     \n",
      "____________________________________________________________________________________________________\n",
      "bnF (BatchNormalization)         (None, 16, 16, 128)   512         merge5[0][0]                     \n",
      "____________________________________________________________________________________________________\n",
      "reluF (Activation)               (None, 16, 16, 128)   0           bnF[0][0]                        \n",
      "____________________________________________________________________________________________________\n",
      "avg_pool (AveragePooling2D)      (None, 1, 1, 128)     0           reluF[0][0]                      \n",
      "____________________________________________________________________________________________________\n",
      "flat (Flatten)                   (None, 128)           0           avg_pool[0][0]                   \n",
      "____________________________________________________________________________________________________\n",
      "fc10 (Dense)                     (None, 5)             645         flat[0][0]                       \n",
      "====================================================================================================\n",
      "Total params: 96,133\n",
      "Trainable params: 93,957\n",
      "Non-trainable params: 2,176\n",
      "____________________________________________________________________________________________________\n"
     ]
    }
   ],
   "source": [
    "model = ResNetPreAct()\n",
    "model.summary()"
   ]
  },
  {
   "cell_type": "markdown",
   "metadata": {
    "collapsed": true
   },
   "source": [
    "## Next Lesson\n",
    "### Train and Evaluate ResNet\n",
    "- Image classification task with Flower dataset\n",
    "\n",
    "<img src=\"../../images/divider.png\" width=\"100\">"
   ]
  }
 ],
 "metadata": {
  "anaconda-cloud": {},
  "kernelspec": {
   "display_name": "Python [conda env:TF-1_3]",
   "language": "python",
   "name": "conda-env-TF-1_3-py"
  },
  "language_info": {
   "codemirror_mode": {
    "name": "ipython",
    "version": 2
   },
   "file_extension": ".py",
   "mimetype": "text/x-python",
   "name": "python",
   "nbconvert_exporter": "python",
   "pygments_lexer": "ipython2",
   "version": "2.7.13"
  }
 },
 "nbformat": 4,
 "nbformat_minor": 1
}
