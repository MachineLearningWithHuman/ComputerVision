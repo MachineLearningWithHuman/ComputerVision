{
 "cells": [
  {
   "cell_type": "markdown",
   "metadata": {},
   "source": [
    "# ACGAN Architectural Design\n",
    "*by Marvin Bertin*\n",
    "<img src=\"../../images/keras-tensorflow-logo.jpg\" width=\"400\">"
   ]
  },
  {
   "cell_type": "markdown",
   "metadata": {},
   "source": [
    "# ACGAN Model\n",
    "[Conditional Image Synthesis with Auxiliary Classifier GANs paper](https://arxiv.org/pdf/1610.09585.pdf)\n",
    "\n",
    "<img src=\"../../images/acgan.jpg\" width=\"700\">\n",
    "\n",
    "- CNN have brought advances in image classification\n",
    "- CNN can also be reversed to generate images from scratch (generative models)\n",
    "- One type of generative model are generative adversarial networks (GANs)\n",
    "- Special type of GAN is Auxiliary Classifier GANs (ACGAN)\n",
    "- GAN with class-label conditioning to generate images\n",
    "\n",
    "\n",
    "## Example of Generated Images Conditioned on Label\n",
    "\n",
    "<img src=\"../../images/generated-images.png\" width=\"800\">"
   ]
  },
  {
   "cell_type": "markdown",
   "metadata": {},
   "source": [
    "# Introduction to Generative Adversarial Networks (GANs)\n",
    "\n",
    "<img src=\"../../images/GANs.png\" width=\"800\">\n",
    "\n",
    "- GAN is composed of two competing neural network models (often CNNs)\n",
    "- **Generator: ** takes noise input and generate a realistic image\n",
    "- **Discriminator: ** takes real and fake images and has to distinguish the fake from the real\n",
    "- Two networks play an adversarial game\n",
    "- generator learns to produce more and more realistic samples\n",
    "- discriminator learns to get better and better at distinguishing generated data from real data.\n",
    "- networks are trained simultaneously\n",
    "\n",
    "** Training on real image: **\n",
    "- Discriminator should classify real image as real\n",
    "- Ouput probability close to 1\n",
    "\n",
    "<img src=\"../../images/dis.png\" width=\"800\">\n",
    "\n",
    "** Training on fake image: **\n",
    "- Generator generate fake image from noise\n",
    "- Discriminator should classify fake image as fake\n",
    "- Ouput probability close to 0\n",
    "\n",
    "<img src=\"../../images/gen.png\" width=\"900\">\n",
    "\n"
   ]
  },
  {
   "cell_type": "markdown",
   "metadata": {},
   "source": [
    "# Auxiliary Classifier ACGAN\n",
    "Proposed a new method for improved training of GANs by conditioning input with class labels.\n",
    "\n",
    "<img src=\"../../images/acgan-2.png\" width=\"300\">\n",
    "\n",
    "**Multi-input multi-output network:**\n",
    "- **Inputs:** class embedding and noise vector\n",
    "- **Outputs:** binary classifier (fake/real images) and multi-class classifier (image classes)\n",
    "\n",
    "<img src=\"../../images/acgan-3.png\" width=\"800\">"
   ]
  },
  {
   "cell_type": "markdown",
   "metadata": {},
   "source": [
    "## Next Lesson\n",
    "### Implementation of ACGAN model\n",
    "- Generator\n",
    "- Discriminator\n",
    "- dual loss functions\n",
    "\n",
    "<img src=\"../../images/divider.png\" width=\"100\">"
   ]
  }
 ],
 "metadata": {
  "kernelspec": {
   "display_name": "Python 2",
   "language": "python",
   "name": "python2"
  },
  "language_info": {
   "codemirror_mode": {
    "name": "ipython",
    "version": 2
   },
   "file_extension": ".py",
   "mimetype": "text/x-python",
   "name": "python",
   "nbconvert_exporter": "python",
   "pygments_lexer": "ipython2",
   "version": "2.7.13"
  }
 },
 "nbformat": 4,
 "nbformat_minor": 2
}
