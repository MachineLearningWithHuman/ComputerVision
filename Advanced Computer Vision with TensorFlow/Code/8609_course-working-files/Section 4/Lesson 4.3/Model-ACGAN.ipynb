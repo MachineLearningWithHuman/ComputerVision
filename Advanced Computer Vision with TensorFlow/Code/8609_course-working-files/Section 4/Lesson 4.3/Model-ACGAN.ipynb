{
 "cells": [
  {
   "cell_type": "markdown",
   "metadata": {},
   "source": [
    "# Implementation of ACGAN Model\n",
    "*by Marvin Bertin*\n",
    "<img src=\"../../images/keras-tensorflow-logo.jpg\" width=\"400\">"
   ]
  },
  {
   "cell_type": "markdown",
   "metadata": {},
   "source": [
    "# Imports"
   ]
  },
  {
   "cell_type": "code",
   "execution_count": 1,
   "metadata": {
    "collapsed": true
   },
   "outputs": [],
   "source": [
    "from __future__ import absolute_import\n",
    "from __future__ import division\n",
    "from __future__ import print_function\n",
    "\n",
    "import tensorflow as tf\n",
    "import numpy as np"
   ]
  },
  {
   "cell_type": "code",
   "execution_count": 2,
   "metadata": {
    "collapsed": true
   },
   "outputs": [],
   "source": [
    "models = tf.contrib.keras.models\n",
    "layers = tf.contrib.keras.layers\n",
    "utils = tf.contrib.keras.utils\n",
    "losses = tf.contrib.keras.losses\n",
    "optimizers = tf.contrib.keras.optimizers \n",
    "metrics = tf.contrib.keras.metrics"
   ]
  },
  {
   "cell_type": "markdown",
   "metadata": {},
   "source": [
    "# Construct Generator\n",
    "<img src=\"../../images/acgan-3.png\" width=\"800\">"
   ]
  },
  {
   "cell_type": "code",
   "execution_count": 11,
   "metadata": {
    "collapsed": true
   },
   "outputs": [],
   "source": [
    "def generator(latent_size, classes=10):\n",
    "    \n",
    "    def up_sampling_block(x, filter_size):\n",
    "        # upsample block\n",
    "        x = layers.UpSampling2D(size=(2,2))(x)\n",
    "        x = layers.Conv2D(filter_size, (5,5), padding='same', activation='relu')(x)\n",
    "        \n",
    "        return x\n",
    "    \n",
    "    # Input 1\n",
    "    # image class label\n",
    "    image_class = layers.Input(shape=(1,), dtype='int32', name='image_class')\n",
    "    \n",
    "    # class embeddings\n",
    "    emb = layers.Embedding(classes, latent_size,\n",
    "                           embeddings_initializer='glorot_normal')(image_class)\n",
    "    \n",
    "    # 10 classes in MNIST\n",
    "    cls = layers.Flatten()(emb)\n",
    "    \n",
    "    # Input 2\n",
    "    # latent noise vector\n",
    "    latent_input = layers.Input(shape=(latent_size,), name='latent_noise')\n",
    "    \n",
    "    # hadamard product between latent embedding and a class conditional embedding\n",
    "    h = layers.multiply([latent_input, cls])\n",
    "    \n",
    "    # Conv generator\n",
    "    x = layers.Dense(1024, activation='relu')(h)\n",
    "    x = layers.Dense(128 * 7 * 7, activation='relu')(x)\n",
    "    x = layers.Reshape((7, 7, 128))(x)\n",
    "    \n",
    "    # upsample to (14, 14, 128)\n",
    "    x = up_sampling_block(x, 128)\n",
    "    \n",
    "    # upsample to (28, 28, 256)\n",
    "    x = up_sampling_block(x, 256)\n",
    "    \n",
    "    # reduce channel into binary image (28, 28, 1)\n",
    "    generated_img = layers.Conv2D(1, (2,2), padding='same', activation='tanh')(x)\n",
    "    \n",
    "    return models.Model(inputs=[latent_input, image_class],\n",
    "                        outputs=generated_img,\n",
    "                        name='generator') "
   ]
  },
  {
   "cell_type": "code",
   "execution_count": 23,
   "metadata": {},
   "outputs": [
    {
     "name": "stdout",
     "output_type": "stream",
     "text": [
      "____________________________________________________________________________________________________\n",
      "Layer (type)                     Output Shape          Param #     Connected to                     \n",
      "====================================================================================================\n",
      "image_class (InputLayer)         (None, 1)             0                                            \n",
      "____________________________________________________________________________________________________\n",
      "embedding_6 (Embedding)          (None, 1, 100)        1000        image_class[0][0]                \n",
      "____________________________________________________________________________________________________\n",
      "latent_noise (InputLayer)        (None, 100)           0                                            \n",
      "____________________________________________________________________________________________________\n",
      "flatten_10 (Flatten)             (None, 100)           0           embedding_6[0][0]                \n",
      "____________________________________________________________________________________________________\n",
      "multiply_6 (Multiply)            (None, 100)           0           latent_noise[0][0]               \n",
      "                                                                   flatten_10[0][0]                 \n",
      "____________________________________________________________________________________________________\n",
      "dense_11 (Dense)                 (None, 1024)          103424      multiply_6[0][0]                 \n",
      "____________________________________________________________________________________________________\n",
      "dense_12 (Dense)                 (None, 6272)          6428800     dense_11[0][0]                   \n",
      "____________________________________________________________________________________________________\n",
      "reshape_6 (Reshape)              (None, 7, 7, 128)     0           dense_12[0][0]                   \n",
      "____________________________________________________________________________________________________\n",
      "up_sampling2d_11 (UpSampling2D)  (None, 14, 14, 128)   0           reshape_6[0][0]                  \n",
      "____________________________________________________________________________________________________\n",
      "conv2d_32 (Conv2D)               (None, 14, 14, 256)   819456      up_sampling2d_11[0][0]           \n",
      "____________________________________________________________________________________________________\n",
      "up_sampling2d_12 (UpSampling2D)  (None, 28, 28, 256)   0           conv2d_32[0][0]                  \n",
      "____________________________________________________________________________________________________\n",
      "conv2d_33 (Conv2D)               (None, 28, 28, 128)   819328      up_sampling2d_12[0][0]           \n",
      "____________________________________________________________________________________________________\n",
      "conv2d_34 (Conv2D)               (None, 28, 28, 1)     513         conv2d_33[0][0]                  \n",
      "====================================================================================================\n",
      "Total params: 8,172,521\n",
      "Trainable params: 8,172,521\n",
      "Non-trainable params: 0\n",
      "____________________________________________________________________________________________________\n"
     ]
    }
   ],
   "source": [
    "g = generator(latent_size = 100, classes=10)\n",
    "g.summary()"
   ]
  },
  {
   "cell_type": "markdown",
   "metadata": {},
   "source": [
    "# Construct Discriminator\n",
    "<img src=\"../../images/acgan-3.png\" width=\"800\">"
   ]
  },
  {
   "cell_type": "code",
   "execution_count": 15,
   "metadata": {
    "collapsed": true
   },
   "outputs": [],
   "source": [
    "def discriminator(input_shape=(28, 28, 1)):\n",
    "    \n",
    "    def conv_block(x, filter_size, stride):\n",
    "        \n",
    "        x = layers.Conv2D(filter_size, (3,3), padding='same', strides=stride)(x)\n",
    "        x = layers.LeakyReLU()(x)\n",
    "        x = layers.Dropout(0.3)(x)\n",
    "        return x\n",
    "    \n",
    "    input_img = layers.Input(shape=input_shape)\n",
    "    \n",
    "    # discriminator network\n",
    "    x = conv_block(input_img, 32, (2,2))\n",
    "    x = conv_block(input_img, 64, (1,1))\n",
    "    x = conv_block(input_img, 128, (2,2))\n",
    "    x = conv_block(input_img, 256, (1,1))\n",
    "    \n",
    "    features = layers.Flatten()(x)\n",
    "    \n",
    "    # binary classifier, image fake or real\n",
    "    fake = layers.Dense(1, activation='sigmoid', name='generation')(features)\n",
    "    \n",
    "    # multi-class classifier, image digit class\n",
    "    aux = layers.Dense(10, activation='softmax', name='auxiliary')(features)\n",
    "    \n",
    "    \n",
    "    return models.Model(inputs=input_img, outputs=[fake, aux], name='discriminator')"
   ]
  },
  {
   "cell_type": "code",
   "execution_count": 24,
   "metadata": {},
   "outputs": [
    {
     "name": "stdout",
     "output_type": "stream",
     "text": [
      "____________________________________________________________________________________________________\n",
      "Layer (type)                     Output Shape          Param #     Connected to                     \n",
      "====================================================================================================\n",
      "input_6 (InputLayer)             (None, 28, 28, 1)     0                                            \n",
      "____________________________________________________________________________________________________\n",
      "conv2d_35 (Conv2D)               (None, 14, 14, 32)    320         input_6[0][0]                    \n",
      "____________________________________________________________________________________________________\n",
      "leaky_re_lu_17 (LeakyReLU)       (None, 14, 14, 32)    0           conv2d_35[0][0]                  \n",
      "____________________________________________________________________________________________________\n",
      "dropout_17 (Dropout)             (None, 14, 14, 32)    0           leaky_re_lu_17[0][0]             \n",
      "____________________________________________________________________________________________________\n",
      "conv2d_36 (Conv2D)               (None, 14, 14, 64)    18496       dropout_17[0][0]                 \n",
      "____________________________________________________________________________________________________\n",
      "leaky_re_lu_18 (LeakyReLU)       (None, 14, 14, 64)    0           conv2d_36[0][0]                  \n",
      "____________________________________________________________________________________________________\n",
      "dropout_18 (Dropout)             (None, 14, 14, 64)    0           leaky_re_lu_18[0][0]             \n",
      "____________________________________________________________________________________________________\n",
      "conv2d_37 (Conv2D)               (None, 7, 7, 128)     73856       dropout_18[0][0]                 \n",
      "____________________________________________________________________________________________________\n",
      "leaky_re_lu_19 (LeakyReLU)       (None, 7, 7, 128)     0           conv2d_37[0][0]                  \n",
      "____________________________________________________________________________________________________\n",
      "dropout_19 (Dropout)             (None, 7, 7, 128)     0           leaky_re_lu_19[0][0]             \n",
      "____________________________________________________________________________________________________\n",
      "conv2d_38 (Conv2D)               (None, 7, 7, 256)     295168      dropout_19[0][0]                 \n",
      "____________________________________________________________________________________________________\n",
      "leaky_re_lu_20 (LeakyReLU)       (None, 7, 7, 256)     0           conv2d_38[0][0]                  \n",
      "____________________________________________________________________________________________________\n",
      "dropout_20 (Dropout)             (None, 7, 7, 256)     0           leaky_re_lu_20[0][0]             \n",
      "____________________________________________________________________________________________________\n",
      "flatten_11 (Flatten)             (None, 12544)         0           dropout_20[0][0]                 \n",
      "____________________________________________________________________________________________________\n",
      "generation (Dense)               (None, 1)             12545       flatten_11[0][0]                 \n",
      "____________________________________________________________________________________________________\n",
      "auxiliary (Dense)                (None, 10)            125450      flatten_11[0][0]                 \n",
      "====================================================================================================\n",
      "Total params: 525,835\n",
      "Trainable params: 525,835\n",
      "Non-trainable params: 0\n",
      "____________________________________________________________________________________________________\n"
     ]
    }
   ],
   "source": [
    "d = discriminator(input_shape=(28, 28, 1))\n",
    "d.summary()"
   ]
  },
  {
   "cell_type": "markdown",
   "metadata": {},
   "source": [
    "# Combine Generator with Discriminator\n",
    "<img src=\"../../images/acgan-2.png\" width=\"300\">"
   ]
  },
  {
   "cell_type": "code",
   "execution_count": 17,
   "metadata": {
    "collapsed": true
   },
   "outputs": [],
   "source": [
    "# Adam parameters suggested in paper\n",
    "adam_lr = 0.0002\n",
    "adam_beta_1 = 0.5\n",
    "\n",
    "def ACGAN(latent_size = 100):\n",
    "    # build the discriminator\n",
    "    dis = discriminator()\n",
    "    dis.compile(\n",
    "        optimizer=optimizers.Adam(lr=adam_lr, beta_1=adam_beta_1),\n",
    "        loss=['binary_crossentropy', 'sparse_categorical_crossentropy']\n",
    "    )\n",
    "\n",
    "    # build the generator\n",
    "    gen = generator(latent_size)\n",
    "    gen.compile(optimizer=optimizers.Adam(lr=adam_lr, beta_1=adam_beta_1),\n",
    "                      loss='binary_crossentropy')\n",
    "\n",
    "    # Inputs\n",
    "    latent = layers.Input(shape=(latent_size, ), name='latent_noise')\n",
    "    image_class = layers.Input(shape=(1,), dtype='int32', name='image_class')\n",
    "\n",
    "    # Get a fake image\n",
    "    fake_img = gen([latent, image_class])\n",
    "\n",
    "    # Only train generator in combined model\n",
    "    dis.trainable = False\n",
    "    fake, aux = dis(fake_img)\n",
    "    combined = models.Model(inputs=[latent, image_class],\n",
    "                            outputs=[fake, aux],\n",
    "                            name='ACGAN')\n",
    "\n",
    "    combined.compile(\n",
    "        optimizer=optimizers.Adam(lr=adam_lr, beta_1=adam_beta_1),\n",
    "        loss=['binary_crossentropy', 'sparse_categorical_crossentropy']\n",
    "    )\n",
    "    \n",
    "    return combined"
   ]
  },
  {
   "cell_type": "code",
   "execution_count": 18,
   "metadata": {},
   "outputs": [
    {
     "name": "stdout",
     "output_type": "stream",
     "text": [
      "____________________________________________________________________________________________________\n",
      "Layer (type)                     Output Shape          Param #     Connected to                     \n",
      "====================================================================================================\n",
      "latent_noise (InputLayer)        (None, 100)           0                                            \n",
      "____________________________________________________________________________________________________\n",
      "image_class (InputLayer)         (None, 1)             0                                            \n",
      "____________________________________________________________________________________________________\n",
      "generator (Model)                (None, 28, 28, 1)     8172521     latent_noise[0][0]               \n",
      "                                                                   image_class[0][0]                \n",
      "____________________________________________________________________________________________________\n",
      "discriminator (Model)            [(None, 1), (None, 10 525835      generator[1][0]                  \n",
      "====================================================================================================\n",
      "Total params: 8,698,356\n",
      "Trainable params: 8,172,521\n",
      "Non-trainable params: 525,835\n",
      "____________________________________________________________________________________________________\n"
     ]
    }
   ],
   "source": [
    "cagan = ACGAN(latent_size = 100)\n",
    "cagan.summary()"
   ]
  },
  {
   "cell_type": "markdown",
   "metadata": {},
   "source": [
    "## Next Lesson\n",
    "### Train and Evaluate ACGAN\n",
    "- Image classification task with MNIST\n",
    "\n",
    "<img src=\"../../images/divider.png\" width=\"100\">"
   ]
  }
 ],
 "metadata": {
  "kernelspec": {
   "display_name": "Python 2",
   "language": "python",
   "name": "python2"
  },
  "language_info": {
   "codemirror_mode": {
    "name": "ipython",
    "version": 2
   },
   "file_extension": ".py",
   "mimetype": "text/x-python",
   "name": "python",
   "nbconvert_exporter": "python",
   "pygments_lexer": "ipython2",
   "version": "2.7.13"
  }
 },
 "nbformat": 4,
 "nbformat_minor": 2
}
