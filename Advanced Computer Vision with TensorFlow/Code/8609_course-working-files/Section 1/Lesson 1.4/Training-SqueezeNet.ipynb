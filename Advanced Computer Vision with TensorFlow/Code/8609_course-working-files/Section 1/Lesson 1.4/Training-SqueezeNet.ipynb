{
 "cells": [
  {
   "cell_type": "markdown",
   "metadata": {},
   "source": [
    "# Train and Evaluate SqueezeNet on Cifar10 Dataset\n",
    "*by Marvin Bertin*\n",
    "<img src=\"../../images/keras-tensorflow-logo.jpg\" width=\"400\">"
   ]
  },
  {
   "cell_type": "markdown",
   "metadata": {},
   "source": [
    "# Imports"
   ]
  },
  {
   "cell_type": "code",
   "execution_count": 1,
   "metadata": {
    "collapsed": true
   },
   "outputs": [],
   "source": [
    "from __future__ import absolute_import\n",
    "from __future__ import division\n",
    "from __future__ import print_function\n",
    "\n",
    "import tensorflow as tf\n",
    "import matplotlib\n",
    "import matplotlib.pyplot as plt\n",
    "import numpy as np"
   ]
  },
  {
   "cell_type": "code",
   "execution_count": 2,
   "metadata": {
    "collapsed": true
   },
   "outputs": [],
   "source": [
    "datasets = tf.contrib.keras.datasets\n",
    "layers =  tf.contrib.keras.layers\n",
    "models = tf.contrib.keras.models\n",
    "losses = tf.contrib.keras.losses\n",
    "optimizers = tf.contrib.keras.optimizers \n",
    "metrics = tf.contrib.keras.metrics\n",
    "preprocessing_image = tf.contrib.keras.preprocessing.image\n",
    "utils = tf.contrib.keras.utils\n",
    "callbacks = tf.contrib.keras.callbacks"
   ]
  },
  {
   "cell_type": "markdown",
   "metadata": {},
   "source": [
    "# Load Cifar10 Datset"
   ]
  },
  {
   "cell_type": "code",
   "execution_count": 3,
   "metadata": {
    "collapsed": true
   },
   "outputs": [],
   "source": [
    "(x_train, y_train), (x_test, y_test)= datasets.cifar10.load_data()"
   ]
  },
  {
   "cell_type": "markdown",
   "metadata": {},
   "source": [
    "# Image Preprocessing and Augmentation"
   ]
  },
  {
   "cell_type": "code",
   "execution_count": 4,
   "metadata": {},
   "outputs": [],
   "source": [
    "train_datagen = preprocessing_image.ImageDataGenerator(\n",
    "    rescale=1./255,\n",
    "    shear_range=0.1,\n",
    "    zoom_range=0.1,\n",
    "    horizontal_flip=True)\n",
    "\n",
    "test_datagen = preprocessing_image.ImageDataGenerator(rescale=1./255)"
   ]
  },
  {
   "cell_type": "markdown",
   "metadata": {},
   "source": [
    "# One Hot Encoding of Target Vector"
   ]
  },
  {
   "cell_type": "code",
   "execution_count": 5,
   "metadata": {
    "collapsed": true
   },
   "outputs": [],
   "source": [
    "y_train = utils.to_categorical(y_train, num_classes=10)\n",
    "y_test = utils.to_categorical(y_test, num_classes=10)\n"
   ]
  },
  {
   "cell_type": "markdown",
   "metadata": {},
   "source": [
    "# Data Generator"
   ]
  },
  {
   "cell_type": "code",
   "execution_count": 6,
   "metadata": {
    "collapsed": true
   },
   "outputs": [],
   "source": [
    "train_generator = train_datagen.flow(x=x_train, y=y_train, batch_size=32, shuffle=True)\n",
    "\n",
    "test_generator = test_datagen.flow(x=x_test, y=y_test, batch_size=32, shuffle=True)"
   ]
  },
  {
   "cell_type": "markdown",
   "metadata": {
    "collapsed": true
   },
   "source": [
    "# SqueezeNet Model"
   ]
  },
  {
   "cell_type": "code",
   "execution_count": 7,
   "metadata": {
    "collapsed": true
   },
   "outputs": [],
   "source": [
    "def fire_module(x, fire_id, squeeze=16, expand=64):\n",
    "    sq1x1 = \"squeeze1x1\"\n",
    "    exp1x1 = \"expand1x1\"\n",
    "    exp3x3 = \"expand3x3\"\n",
    "    relu = \"relu_\"\n",
    "    s_id = 'fire' + str(fire_id) + '/'\n",
    "\n",
    "    channel_axis = 3\n",
    "\n",
    "    x = layers.Convolution2D(squeeze, (1, 1), padding='valid', name=s_id + sq1x1)(x)\n",
    "    x = layers.Activation('relu', name=s_id + relu + sq1x1)(x)\n",
    "\n",
    "    left = layers.Convolution2D(expand, (1, 1), padding='valid', name=s_id + exp1x1)(x)\n",
    "    left = layers.Activation('relu', name=s_id + relu + exp1x1)(left)\n",
    "\n",
    "    right = layers.Convolution2D(expand, (3, 3), padding='same', name=s_id + exp3x3)(x)\n",
    "    right = layers.Activation('relu', name=s_id + relu + exp3x3)(right)\n",
    "\n",
    "    x = layers.concatenate([left, right], axis=channel_axis, name=s_id + 'concat')\n",
    "    return x\n",
    "\n",
    "def SqueezeNet(input_shape=(32,32,3), classes=10):\n",
    "\n",
    "    img_input = layers.Input(shape=input_shape)\n",
    "\n",
    "\n",
    "    x = layers.Convolution2D(64, (3, 3), strides=(2, 2), padding='valid', name='conv1')(img_input)\n",
    "    x = layers.Activation('relu', name='relu_conv1')(x)\n",
    "#     x = layers.MaxPooling2D(pool_size=(3, 3), strides=(2, 2), name='pool1')(x)\n",
    "\n",
    "    x = fire_module(x, fire_id=2, squeeze=16, expand=64)\n",
    "    x = fire_module(x, fire_id=3, squeeze=16, expand=64)\n",
    "    x = layers.MaxPooling2D(pool_size=(3, 3), strides=(2, 2), name='pool3')(x)\n",
    "\n",
    "    x = fire_module(x, fire_id=4, squeeze=32, expand=128)\n",
    "    x = fire_module(x, fire_id=5, squeeze=32, expand=128)\n",
    "    x = layers.Dropout(0.5, name='drop9')(x)\n",
    "\n",
    "    x = layers.Convolution2D(classes, (1, 1), padding='valid', name='conv10')(x)\n",
    "    x = layers.Activation('relu', name='relu_conv10')(x)\n",
    "    x = layers.GlobalAveragePooling2D()(x)\n",
    "    out = layers.Activation('softmax', name='loss')(x)\n",
    "\n",
    "    model = models.Model(img_input, out, name='squeezenet')\n",
    "\n",
    "    return model"
   ]
  },
  {
   "cell_type": "markdown",
   "metadata": {},
   "source": [
    "# Compile Model"
   ]
  },
  {
   "cell_type": "code",
   "execution_count": 11,
   "metadata": {
    "collapsed": true
   },
   "outputs": [],
   "source": [
    "def compile_model(model):\n",
    "    \n",
    "    # loss\n",
    "    loss = losses.categorical_crossentropy\n",
    "    \n",
    "    # optimizer\n",
    "    optimizer = optimizers.RMSprop(lr=0.0001)\n",
    "    \n",
    "    # metrics\n",
    "    metric = [metrics.categorical_accuracy, metrics.top_k_categorical_accuracy]\n",
    "    \n",
    "    # compile model with loss, optimizer, and evaluation metrics\n",
    "    model.compile(optimizer, loss, metric)\n",
    "    \n",
    "    return model"
   ]
  },
  {
   "cell_type": "markdown",
   "metadata": {},
   "source": [
    "# Train Model on Cifar10"
   ]
  },
  {
   "cell_type": "code",
   "execution_count": 12,
   "metadata": {
    "scrolled": false
   },
   "outputs": [],
   "source": [
    "sn = SqueezeNet()\n",
    "sn = compile_model(sn)"
   ]
  },
  {
   "cell_type": "code",
   "execution_count": 13,
   "metadata": {},
   "outputs": [
    {
     "name": "stdout",
     "output_type": "stream",
     "text": [
      "Epoch 1/10\n",
      "400/400 [==============================] - 59s - loss: 2.2349 - categorical_accuracy: 0.1488 - top_k_categorical_accuracy: 0.6128 - val_loss: 2.1264 - val_categorical_accuracy: 0.2295 - val_top_k_categorical_accuracy: 0.7531\n",
      "Epoch 2/10\n",
      "400/400 [==============================] - 54s - loss: 2.0378 - categorical_accuracy: 0.2335 - top_k_categorical_accuracy: 0.7801 - val_loss: 1.9289 - val_categorical_accuracy: 0.2762 - val_top_k_categorical_accuracy: 0.8327\n",
      "Epoch 3/10\n",
      "400/400 [==============================] - 57s - loss: 1.9405 - categorical_accuracy: 0.2548 - top_k_categorical_accuracy: 0.8183 - val_loss: 1.9037 - val_categorical_accuracy: 0.2917 - val_top_k_categorical_accuracy: 0.8344\n",
      "Epoch 4/10\n",
      "400/400 [==============================] - 54s - loss: 1.8825 - categorical_accuracy: 0.2755 - top_k_categorical_accuracy: 0.8338 - val_loss: 1.8343 - val_categorical_accuracy: 0.2914 - val_top_k_categorical_accuracy: 0.8531\n",
      "Epoch 5/10\n",
      "400/400 [==============================] - 55s - loss: 1.8404 - categorical_accuracy: 0.2909 - top_k_categorical_accuracy: 0.8469 - val_loss: 1.8556 - val_categorical_accuracy: 0.3044 - val_top_k_categorical_accuracy: 0.8396\n",
      "Epoch 6/10\n",
      "400/400 [==============================] - 67s - loss: 1.8109 - categorical_accuracy: 0.3133 - top_k_categorical_accuracy: 0.8521 - val_loss: 1.7528 - val_categorical_accuracy: 0.3272 - val_top_k_categorical_accuracy: 0.8736\n",
      "Epoch 7/10\n",
      "400/400 [==============================] - 55s - loss: 1.7910 - categorical_accuracy: 0.3205 - top_k_categorical_accuracy: 0.8558 - val_loss: 1.7415 - val_categorical_accuracy: 0.3412 - val_top_k_categorical_accuracy: 0.8720\n",
      "Epoch 8/10\n",
      "400/400 [==============================] - 55s - loss: 1.7703 - categorical_accuracy: 0.3304 - top_k_categorical_accuracy: 0.8655 - val_loss: 1.9308 - val_categorical_accuracy: 0.3233 - val_top_k_categorical_accuracy: 0.8170\n",
      "Epoch 9/10\n",
      "400/400 [==============================] - 55s - loss: 1.7438 - categorical_accuracy: 0.3446 - top_k_categorical_accuracy: 0.8690 - val_loss: 1.6670 - val_categorical_accuracy: 0.3596 - val_top_k_categorical_accuracy: 0.8911\n",
      "Epoch 10/10\n",
      "400/400 [==============================] - 61s - loss: 1.7154 - categorical_accuracy: 0.3483 - top_k_categorical_accuracy: 0.8788 - val_loss: 1.6629 - val_categorical_accuracy: 0.3811 - val_top_k_categorical_accuracy: 0.8912\n"
     ]
    }
   ],
   "source": [
    "history = sn.fit_generator(\n",
    "    train_generator,\n",
    "    steps_per_epoch=400,\n",
    "    epochs=10,\n",
    "    validation_data=test_generator,\n",
    "    validation_steps=200)"
   ]
  },
  {
   "cell_type": "markdown",
   "metadata": {},
   "source": [
    "# Plot Accuracy and Loss Over Time"
   ]
  },
  {
   "cell_type": "code",
   "execution_count": 14,
   "metadata": {
    "collapsed": true
   },
   "outputs": [],
   "source": [
    "def plot_accuracy_and_loss(history):\n",
    "    plt.figure(1, figsize= (15, 10))\n",
    "    \n",
    "    # plot train and test accuracy\n",
    "    plt.subplot(221)\n",
    "    plt.plot(history.history['categorical_accuracy'])\n",
    "    plt.plot(history.history['val_categorical_accuracy'])\n",
    "    plt.title('SqueezeNet accuracy')\n",
    "    plt.ylabel('accuracy')\n",
    "    plt.xlabel('epoch')\n",
    "    plt.legend(['train', 'test'], loc='upper left')\n",
    "\n",
    "    # plot train and test loss\n",
    "    plt.subplot(222)\n",
    "    plt.plot(history.history['loss'])\n",
    "    plt.plot(history.history['val_loss'])\n",
    "    plt.title('SqueezeNet loss')\n",
    "    plt.ylabel('loss')\n",
    "    plt.xlabel('epoch')\n",
    "    plt.legend(['train', 'test'], loc='upper right')\n",
    "    \n",
    "    plt.show()"
   ]
  },
  {
   "cell_type": "code",
   "execution_count": 15,
   "metadata": {},
   "outputs": [
    {
     "data": {
      "image/png": "[encoded data removed]",
      "text/plain": [
       "<matplotlib.figure.Figure at 0x158445c50>"
      ]
     },
     "metadata": {},
     "output_type": "display_data"
    }
   ],
   "source": [
    "plot_accuracy_and_loss(history)"
   ]
  },
  {
   "cell_type": "markdown",
   "metadata": {},
   "source": [
    "# Save Model Configuration and Weights"
   ]
  },
  {
   "cell_type": "code",
   "execution_count": 16,
   "metadata": {},
   "outputs": [],
   "source": [
    "# save model architecture\n",
    "model_json = sn.to_json()\n",
    "open('squeeze_net_model.json', 'w').write(model_json)\n",
    "\n",
    "# save model's learned weights\n",
    "sn.save_weights('image_classifier_squeeze_net.h5', overwrite=True)"
   ]
  },
  {
   "cell_type": "markdown",
   "metadata": {
    "collapsed": true
   },
   "source": [
    "## Next Lesson\n",
    "### ResNet: Residual Learning for Image Recognition\n",
    "\n",
    "\n",
    "<img src=\"../../images/divider.png\" width=\"100\">"
   ]
  }
 ],
 "metadata": {
  "anaconda-cloud": {},
  "kernelspec": {
   "display_name": "Python 2",
   "language": "python",
   "name": "python2"
  },
  "language_info": {
   "codemirror_mode": {
    "name": "ipython",
    "version": 2
   },
   "file_extension": ".py",
   "mimetype": "text/x-python",
   "name": "python",
   "nbconvert_exporter": "python",
   "pygments_lexer": "ipython2",
   "version": "2.7.13"
  }
 },
 "nbformat": 4,
 "nbformat_minor": 1
}
