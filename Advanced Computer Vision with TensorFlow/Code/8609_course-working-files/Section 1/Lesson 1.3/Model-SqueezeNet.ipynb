{
 "cells": [
  {
   "cell_type": "markdown",
   "metadata": {},
   "source": [
    "# Implementation of a CNN Fire module for SqueezeNet\n",
    "*by Marvin Bertin*\n",
    "<img src=\"../../images/keras-tensorflow-logo.jpg\" width=\"400\">"
   ]
  },
  {
   "cell_type": "markdown",
   "metadata": {},
   "source": [
    "# Imports"
   ]
  },
  {
   "cell_type": "code",
   "execution_count": 6,
   "metadata": {
    "collapsed": true
   },
   "outputs": [],
   "source": [
    "from __future__ import absolute_import\n",
    "from __future__ import division\n",
    "from __future__ import print_function\n",
    "\n",
    "import tensorflow as tf\n",
    "import numpy as np"
   ]
  },
  {
   "cell_type": "code",
   "execution_count": 7,
   "metadata": {
    "collapsed": true
   },
   "outputs": [],
   "source": [
    "layers =  tf.contrib.keras.layers\n",
    "models = tf.contrib.keras.models"
   ]
  },
  {
   "cell_type": "markdown",
   "metadata": {},
   "source": [
    "# Implementation of Fire Module\n",
    "\n",
    "<img src=\"../../images/fire_module.png\" width=\"600\">"
   ]
  },
  {
   "cell_type": "code",
   "execution_count": 3,
   "metadata": {
    "collapsed": true
   },
   "outputs": [],
   "source": [
    "def fire_module(x, fire_id, squeeze=16, expand=64):\n",
    "    sq1x1 = \"squeeze1x1\"\n",
    "    exp1x1 = \"expand1x1\"\n",
    "    exp3x3 = \"expand3x3\"\n",
    "    relu = \"relu_\"\n",
    "    s_id = 'fire' + str(fire_id) + '/'\n",
    "\n",
    "    # Squeeze layer\n",
    "    x = layers.Convolution2D(squeeze, (1,1), padding='valid', name=s_id + sq1x1)(x)\n",
    "    x = layers.Activation('relu', name=s_id + relu + sq1x1)\n",
    "\n",
    "    # Expand layer 1x1 filters\n",
    "    left = layers.Convolution2D(expand, (1,1), padding='valid', name=s_id + exp1x1)(x)\n",
    "    left = layers.Activation('relu', name=s_id + relu + exp1x1)(left)\n",
    "\n",
    "    # Expand layer 3x3 filters\n",
    "    right = layers.Convolution2D(expand, (3,3), padding='same', name=s_id + exp3x3)(x)\n",
    "    right = layers.Activation('relu', name=s_id + relu + exp3x3)(right)\n",
    "\n",
    "    # concatenate outputs\n",
    "    x = layers.concatenate([left, right], axis=3, name=s_id + 'concat')\n",
    "\n",
    "    \n",
    "    return x"
   ]
  },
  {
   "cell_type": "markdown",
   "metadata": {},
   "source": [
    "# Implementation of SqueezeNet"
   ]
  },
  {
   "cell_type": "code",
   "execution_count": 4,
   "metadata": {
    "collapsed": true
   },
   "outputs": [],
   "source": [
    "def SqueezeNet(input_shape=(32,32,3), classes=10):\n",
    "    \n",
    "    img_input = layers.Input(shape=input_shape)\n",
    "    \n",
    "    x = layers.Convolution2D(64, (3, 3), strides=(2, 2), padding='valid', name='conv1')(img_input)\n",
    "    x = layers.Activation('relu', name='relu_conv1')(x)\n",
    "#     x = layers.MaxPooling2D(pool_size=(3, 3), strides=(2, 2), name='pool1')(x)\n",
    "\n",
    "    x = fire_module(x, fire_id=2, squeeze=16, expand=64)\n",
    "    x = fire_module(x, fire_id=3, squeeze=16, expand=64)\n",
    "    x = layers.MaxPooling2D(pool_size=(3, 3), strides=(2, 2), name='pool3')(x)\n",
    "\n",
    "    x = fire_module(x, fire_id=4, squeeze=32, expand=128)\n",
    "    x = fire_module(x, fire_id=5, squeeze=32, expand=128)\n",
    "    x = layers.Dropout(0.5, name='drop9')(x)\n",
    "\n",
    "    x = layers.Convolution2D(classes, (1, 1), padding='valid', name='conv10')(x)\n",
    "    x = layers.Activation('relu', name='relu_conv10')(x)\n",
    "    x = layers.GlobalAveragePooling2D()(x)\n",
    "    out = layers.Activation('softmax', name='loss')(x)\n",
    "\n",
    "    model = models.Model(img_input, out, name='squeezenet')\n",
    "\n",
    "    return model"
   ]
  },
  {
   "cell_type": "markdown",
   "metadata": {},
   "source": [
    "# Inspect SqueezeNet Architecture"
   ]
  },
  {
   "cell_type": "code",
   "execution_count": 9,
   "metadata": {},
   "outputs": [
    {
     "name": "stdout",
     "output_type": "stream",
     "text": [
      "____________________________________________________________________________________________________\n",
      "Layer (type)                     Output Shape          Param #     Connected to                     \n",
      "====================================================================================================\n",
      "input_3 (InputLayer)             (None, 32, 32, 3)     0                                            \n",
      "____________________________________________________________________________________________________\n",
      "conv1 (Conv2D)                   (None, 15, 15, 64)    1792        input_3[0][0]                    \n",
      "____________________________________________________________________________________________________\n",
      "relu_conv1 (Activation)          (None, 15, 15, 64)    0           conv1[0][0]                      \n",
      "____________________________________________________________________________________________________\n",
      "fire2/squeeze1x1 (Conv2D)        (None, 15, 15, 16)    1040        relu_conv1[0][0]                 \n",
      "____________________________________________________________________________________________________\n",
      "fire2/relu_squeeze1x1 (Activatio (None, 15, 15, 16)    0           fire2/squeeze1x1[0][0]           \n",
      "____________________________________________________________________________________________________\n",
      "fire2/expand1x1 (Conv2D)         (None, 15, 15, 64)    1088        fire2/relu_squeeze1x1[0][0]      \n",
      "____________________________________________________________________________________________________\n",
      "fire2/expand3x3 (Conv2D)         (None, 15, 15, 64)    9280        fire2/relu_squeeze1x1[0][0]      \n",
      "____________________________________________________________________________________________________\n",
      "fire2/relu_expand1x1 (Activation (None, 15, 15, 64)    0           fire2/expand1x1[0][0]            \n",
      "____________________________________________________________________________________________________\n",
      "fire2/relu_expand3x3 (Activation (None, 15, 15, 64)    0           fire2/expand3x3[0][0]            \n",
      "____________________________________________________________________________________________________\n",
      "fire2/concat (Concatenate)       (None, 15, 15, 128)   0           fire2/relu_expand1x1[0][0]       \n",
      "                                                                   fire2/relu_expand3x3[0][0]       \n",
      "____________________________________________________________________________________________________\n",
      "fire3/squeeze1x1 (Conv2D)        (None, 15, 15, 16)    2064        fire2/concat[0][0]               \n",
      "____________________________________________________________________________________________________\n",
      "fire3/relu_squeeze1x1 (Activatio (None, 15, 15, 16)    0           fire3/squeeze1x1[0][0]           \n",
      "____________________________________________________________________________________________________\n",
      "fire3/expand1x1 (Conv2D)         (None, 15, 15, 64)    1088        fire3/relu_squeeze1x1[0][0]      \n",
      "____________________________________________________________________________________________________\n",
      "fire3/expand3x3 (Conv2D)         (None, 15, 15, 64)    9280        fire3/relu_squeeze1x1[0][0]      \n",
      "____________________________________________________________________________________________________\n",
      "fire3/relu_expand1x1 (Activation (None, 15, 15, 64)    0           fire3/expand1x1[0][0]            \n",
      "____________________________________________________________________________________________________\n",
      "fire3/relu_expand3x3 (Activation (None, 15, 15, 64)    0           fire3/expand3x3[0][0]            \n",
      "____________________________________________________________________________________________________\n",
      "fire3/concat (Concatenate)       (None, 15, 15, 128)   0           fire3/relu_expand1x1[0][0]       \n",
      "                                                                   fire3/relu_expand3x3[0][0]       \n",
      "____________________________________________________________________________________________________\n",
      "pool3 (MaxPooling2D)             (None, 7, 7, 128)     0           fire3/concat[0][0]               \n",
      "____________________________________________________________________________________________________\n",
      "fire4/squeeze1x1 (Conv2D)        (None, 7, 7, 32)      4128        pool3[0][0]                      \n",
      "____________________________________________________________________________________________________\n",
      "fire4/relu_squeeze1x1 (Activatio (None, 7, 7, 32)      0           fire4/squeeze1x1[0][0]           \n",
      "____________________________________________________________________________________________________\n",
      "fire4/expand1x1 (Conv2D)         (None, 7, 7, 128)     4224        fire4/relu_squeeze1x1[0][0]      \n",
      "____________________________________________________________________________________________________\n",
      "fire4/expand3x3 (Conv2D)         (None, 7, 7, 128)     36992       fire4/relu_squeeze1x1[0][0]      \n",
      "____________________________________________________________________________________________________\n",
      "fire4/relu_expand1x1 (Activation (None, 7, 7, 128)     0           fire4/expand1x1[0][0]            \n",
      "____________________________________________________________________________________________________\n",
      "fire4/relu_expand3x3 (Activation (None, 7, 7, 128)     0           fire4/expand3x3[0][0]            \n",
      "____________________________________________________________________________________________________\n",
      "fire4/concat (Concatenate)       (None, 7, 7, 256)     0           fire4/relu_expand1x1[0][0]       \n",
      "                                                                   fire4/relu_expand3x3[0][0]       \n",
      "____________________________________________________________________________________________________\n",
      "fire5/squeeze1x1 (Conv2D)        (None, 7, 7, 32)      8224        fire4/concat[0][0]               \n",
      "____________________________________________________________________________________________________\n",
      "fire5/relu_squeeze1x1 (Activatio (None, 7, 7, 32)      0           fire5/squeeze1x1[0][0]           \n",
      "____________________________________________________________________________________________________\n",
      "fire5/expand1x1 (Conv2D)         (None, 7, 7, 128)     4224        fire5/relu_squeeze1x1[0][0]      \n",
      "____________________________________________________________________________________________________\n",
      "fire5/expand3x3 (Conv2D)         (None, 7, 7, 128)     36992       fire5/relu_squeeze1x1[0][0]      \n",
      "____________________________________________________________________________________________________\n",
      "fire5/relu_expand1x1 (Activation (None, 7, 7, 128)     0           fire5/expand1x1[0][0]            \n",
      "____________________________________________________________________________________________________\n",
      "fire5/relu_expand3x3 (Activation (None, 7, 7, 128)     0           fire5/expand3x3[0][0]            \n",
      "____________________________________________________________________________________________________\n",
      "fire5/concat (Concatenate)       (None, 7, 7, 256)     0           fire5/relu_expand1x1[0][0]       \n",
      "                                                                   fire5/relu_expand3x3[0][0]       \n",
      "____________________________________________________________________________________________________\n",
      "drop9 (Dropout)                  (None, 7, 7, 256)     0           fire5/concat[0][0]               \n",
      "____________________________________________________________________________________________________\n",
      "conv10 (Conv2D)                  (None, 7, 7, 10)      2570        drop9[0][0]                      \n",
      "____________________________________________________________________________________________________\n",
      "relu_conv10 (Activation)         (None, 7, 7, 10)      0           conv10[0][0]                     \n",
      "____________________________________________________________________________________________________\n",
      "global_average_pooling2d_3 (Glob (None, 10)            0           relu_conv10[0][0]                \n",
      "____________________________________________________________________________________________________\n",
      "loss (Activation)                (None, 10)            0           global_average_pooling2d_3[0][0] \n",
      "====================================================================================================\n",
      "Total params: 122,986\n",
      "Trainable params: 122,986\n",
      "Non-trainable params: 0\n",
      "____________________________________________________________________________________________________\n"
     ]
    }
   ],
   "source": [
    "squeeze_net = SqueezeNet()\n",
    "squeeze_net.summary()"
   ]
  },
  {
   "cell_type": "markdown",
   "metadata": {},
   "source": [
    "## Next Lesson\n",
    "### Train and Evaluate SqueezeNet\n",
    "- Image classification task with Cifar10\n",
    "\n",
    "<img src=\"../../images/divider.png\" width=\"100\">"
   ]
  }
 ],
 "metadata": {
  "anaconda-cloud": {},
  "kernelspec": {
   "display_name": "Python 2",
   "language": "python",
   "name": "python2"
  },
  "language_info": {
   "codemirror_mode": {
    "name": "ipython",
    "version": 2
   },
   "file_extension": ".py",
   "mimetype": "text/x-python",
   "name": "python",
   "nbconvert_exporter": "python",
   "pygments_lexer": "ipython2",
   "version": "2.7.13"
  }
 },
 "nbformat": 4,
 "nbformat_minor": 2
}
