{
 "cells": [
  {
   "cell_type": "markdown",
   "metadata": {},
   "source": [
    "# Xception Architectural Design\n",
    "*by Marvin Bertin*\n",
    "<img src=\"../../images/keras-tensorflow-logo.jpg\" width=\"400\">"
   ]
  },
  {
   "cell_type": "markdown",
   "metadata": {},
   "source": [
    "# Xception model\n",
    "\n",
    "- Inspired by Google's Inception model\n",
    "- Xception is based on an 'extreme' interpretation of the Inception model\n",
    "- The Xception architecture is a linear stack of depthwise separable convolution layers with residual connections\n",
    "- Simple and modular architecture\n",
    "\n",
    "<img src=\"../../images/xception-result.png\" width=\"500\">\n"
   ]
  },
  {
   "cell_type": "markdown",
   "metadata": {},
   "source": [
    "# Depthwise Separable Convolution\n",
    "\n",
    "**Regular Convolutions:**\n",
    "- look at both channel & spatial correlations simultaneously\n",
    "\n",
    "**Depthwise separable convolution:**\n",
    "- look at channel & spatial correlations independently in successive steps\n",
    "- spatial convolution: 3x3 convolutions for each channel\n",
    "- depthwise convolution: 1x1 convolutions on concatenated channels\n",
    "\n",
    "<img src=\"../../images/xception1.jpg\" width=\"500\">\n",
    "\n",
    "**Example:**\n",
    "take 3x3 convolutional layer on 16 input channels and 32 output channels.\n",
    "\n",
    "- regular convolution: 16x32x3x3 = 4608 parameters\n",
    "- depthwise separable convolution: (spatial conv + depthwise conv) = (16x3x3 + 16x32x1x1) = 656 parameters\n",
    "- greatly reduced parameter count\n",
    "- more efficient complexity\n",
    "- maintains cross-channel features"
   ]
  },
  {
   "cell_type": "markdown",
   "metadata": {},
   "source": [
    "# Inception Model\n",
    "\n",
    "<img src=\"../../images/inception.png\" width=\"500\">\n",
    "\n",
    "- fundamental hypothesis: cross-channel correlations and spatial correlations are sufficiently decoupled\n",
    "- first looks at crosschannel correlations via a set of 1x1 convolutions.\n",
    "- then acts as a “multi-level feature extractor” by computing 1×1, 3×3, and 5×5 convolutions\n",
    "- output feature maps are stacked along the channel dimension"
   ]
  },
  {
   "cell_type": "markdown",
   "metadata": {},
   "source": [
    "**“extreme” version of Inception module:**\n",
    "\n",
    "<img src=\"../../images/xception2.png\" width=\"600\">\n",
    "\n",
    "- first use a 1x1 convolution to map cross-channel correlations\n",
    "- then separately map the spatial correlations of every output channel (instead of just 3-4 partitions)\n",
    "- Similar to depthwise separable convolution"
   ]
  },
  {
   "cell_type": "markdown",
   "metadata": {},
   "source": [
    "# What makes depthwise separable convolution different\n",
    "Two differences between and “extreme” version of\n",
    "an Inception module and a depthwise separable convolution\n",
    "\n",
    "1. The order of the operations:\n",
    "\t- depthwise separable convolutions perform first channel-wise spatial convolution and then perform 1x1 depthwise convolution on the output.\n",
    "2. Non-linearity after the first operation:\n",
    "\t- In Inception both operations are followed by a ReLU non-linearity\n",
    "\t- In depthwise separable convolutions don't have intermediate non-linearities"
   ]
  },
  {
   "cell_type": "markdown",
   "metadata": {},
   "source": [
    "# Xception architecture\n",
    "\n",
    "- convolutional neural network architecture based entirely on depthwise separable convolution layers.\n",
    "- fundamental hypothesis: mapping of cross-channels correlations and spatial correlations can be entirely decoupled.\n",
    "- composed of 36 convolutional layers forming the feature extraction base of the network\n",
    "- structured into 14 modules, all of which have linear residual connections around them, except for the first and last modules.\n",
    "\n",
    "<img src=\"../../images/xception0.png\" width=\"800\">\n"
   ]
  },
  {
   "cell_type": "markdown",
   "metadata": {},
   "source": [
    "## Next Lesson\n",
    "### Implementation of Xception model\n",
    "- depthwise separable convolution\n",
    "\n",
    "<img src=\"../../images/divider.png\" width=\"100\">"
   ]
  }
 ],
 "metadata": {
  "anaconda-cloud": {},
  "kernelspec": {
   "display_name": "Python 2",
   "language": "python",
   "name": "python2"
  },
  "language_info": {
   "codemirror_mode": {
    "name": "ipython",
    "version": 2
   },
   "file_extension": ".py",
   "mimetype": "text/x-python",
   "name": "python",
   "nbconvert_exporter": "python",
   "pygments_lexer": "ipython2",
   "version": "2.7.13"
  }
 },
 "nbformat": 4,
 "nbformat_minor": 1
}
